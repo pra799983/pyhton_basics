{
 "cells": [
  {
   "cell_type": "code",
   "execution_count": 2,
   "id": "148f6cf0-966a-4967-bf89-8ae7a6f515fc",
   "metadata": {},
   "outputs": [
    {
     "data": {
      "text/plain": [
       "222500"
      ]
     },
     "execution_count": 2,
     "metadata": {},
     "output_type": "execute_result"
    }
   ],
   "source": [
    "2500*89"
   ]
  },
  {
   "cell_type": "code",
   "execution_count": null,
   "id": "bf751a14-a813-4a07-a3d5-f8ef5551aca2",
   "metadata": {},
   "outputs": [],
   "source": []
  },
  {
   "cell_type": "code",
   "execution_count": null,
   "id": "4c4e44fd-86f0-4d76-b822-40d010a55fb2",
   "metadata": {},
   "outputs": [],
   "source": []
  },
  {
   "cell_type": "code",
   "execution_count": null,
   "id": "3ff80817-c42b-4943-9f11-9ab439b923f0",
   "metadata": {},
   "outputs": [],
   "source": []
  },
  {
   "cell_type": "code",
   "execution_count": 4,
   "id": "fff8121b-3e51-4074-aeeb-5834ff23fcf4",
   "metadata": {},
   "outputs": [
    {
     "data": {
      "text/plain": [
       "50"
      ]
     },
     "execution_count": 4,
     "metadata": {},
     "output_type": "execute_result"
    }
   ],
   "source": [
    "a = 50\n",
    "a"
   ]
  },
  {
   "cell_type": "code",
   "execution_count": 5,
   "id": "819c2dfe-9571-45b3-b2cb-4d50b67242a1",
   "metadata": {},
   "outputs": [
    {
     "data": {
      "text/plain": [
       "145"
      ]
     },
     "execution_count": 5,
     "metadata": {},
     "output_type": "execute_result"
    }
   ],
   "source": [
    "b = 145\n",
    "b"
   ]
  },
  {
   "cell_type": "code",
   "execution_count": 6,
   "id": "32321aee-f160-482c-8291-96bee60d656c",
   "metadata": {},
   "outputs": [
    {
     "data": {
      "text/plain": [
       "195"
      ]
     },
     "execution_count": 6,
     "metadata": {},
     "output_type": "execute_result"
    }
   ],
   "source": [
    "a+b"
   ]
  },
  {
   "cell_type": "code",
   "execution_count": 8,
   "id": "a0fb8cbe-bf6d-4107-9f57-f76e42889975",
   "metadata": {},
   "outputs": [
    {
     "data": {
      "text/plain": [
       "1500"
      ]
     },
     "execution_count": 8,
     "metadata": {},
     "output_type": "execute_result"
    }
   ],
   "source": [
    "a + b*10"
   ]
  },
  {
   "cell_type": "code",
   "execution_count": 9,
   "id": "cfa32a78-6d80-4014-9f1d-09db94918866",
   "metadata": {},
   "outputs": [
    {
     "data": {
      "text/plain": [
       "int"
      ]
     },
     "execution_count": 9,
     "metadata": {},
     "output_type": "execute_result"
    }
   ],
   "source": [
    "type(a)"
   ]
  },
  {
   "cell_type": "code",
   "execution_count": 10,
   "id": "5ca44a60-58e9-4523-8332-e07c3a9eea0f",
   "metadata": {},
   "outputs": [
    {
     "data": {
      "text/plain": [
       "int"
      ]
     },
     "execution_count": 10,
     "metadata": {},
     "output_type": "execute_result"
    }
   ],
   "source": [
    "type(b)"
   ]
  },
  {
   "cell_type": "code",
   "execution_count": 21,
   "id": "befcc0a0-19de-4247-81f3-642ffbffa0b9",
   "metadata": {},
   "outputs": [
    {
     "data": {
      "text/plain": [
       "2"
      ]
     },
     "execution_count": 21,
     "metadata": {},
     "output_type": "execute_result"
    }
   ],
   "source": [
    "b = 2\n",
    "b\n"
   ]
  },
  {
   "cell_type": "code",
   "execution_count": 22,
   "id": "76dccfe6-dd1a-4f30-875f-7ba5dda1cc78",
   "metadata": {},
   "outputs": [
    {
     "data": {
      "text/plain": [
       "int"
      ]
     },
     "execution_count": 22,
     "metadata": {},
     "output_type": "execute_result"
    }
   ],
   "source": [
    "type(b)"
   ]
  },
  {
   "cell_type": "code",
   "execution_count": 25,
   "id": "dec6cf3e-db45-43b6-a510-0e7b6bc76c26",
   "metadata": {},
   "outputs": [
    {
     "data": {
      "text/plain": [
       "'pradeep'"
      ]
     },
     "execution_count": 25,
     "metadata": {},
     "output_type": "execute_result"
    }
   ],
   "source": [
    "d = \"pradeep\"\n",
    "d"
   ]
  },
  {
   "cell_type": "code",
   "execution_count": 24,
   "id": "05145eec-c378-4909-903b-e2d83b861657",
   "metadata": {},
   "outputs": [
    {
     "data": {
      "text/plain": [
       "str"
      ]
     },
     "execution_count": 24,
     "metadata": {},
     "output_type": "execute_result"
    }
   ],
   "source": [
    "type(d)"
   ]
  },
  {
   "cell_type": "code",
   "execution_count": 26,
   "id": "5a3129ea-ecbe-490b-abeb-6a976f4f311e",
   "metadata": {},
   "outputs": [
    {
     "data": {
      "text/plain": [
       "' This is pradeep singh narwariya'"
      ]
     },
     "execution_count": 26,
     "metadata": {},
     "output_type": "execute_result"
    }
   ],
   "source": [
    " a = ' This is pradeep singh narwariya'\n",
    " a   "
   ]
  },
  {
   "cell_type": "code",
   "execution_count": 27,
   "id": "f4dc320e-3ba4-4f34-96e4-729e5bac02fb",
   "metadata": {},
   "outputs": [
    {
     "data": {
      "text/plain": [
       "str"
      ]
     },
     "execution_count": 27,
     "metadata": {},
     "output_type": "execute_result"
    }
   ],
   "source": [
    "type(a)"
   ]
  },
  {
   "cell_type": "code",
   "execution_count": 28,
   "id": "1b4917ae-6e0f-4283-8e4f-eff3c90f1812",
   "metadata": {},
   "outputs": [],
   "source": [
    "n = True"
   ]
  },
  {
   "cell_type": "code",
   "execution_count": 29,
   "id": "2fd40d7a-4f85-4e73-97a9-a76a35df6201",
   "metadata": {},
   "outputs": [
    {
     "data": {
      "text/plain": [
       "bool"
      ]
     },
     "execution_count": 29,
     "metadata": {},
     "output_type": "execute_result"
    }
   ],
   "source": [
    "type(n)"
   ]
  },
  {
   "cell_type": "code",
   "execution_count": 31,
   "id": "b1be5d08-dba6-44fc-bd3c-f992dff33dea",
   "metadata": {},
   "outputs": [
    {
     "data": {
      "text/plain": [
       "False"
      ]
     },
     "execution_count": 31,
     "metadata": {},
     "output_type": "execute_result"
    }
   ],
   "source": [
    "m = False\n",
    "m"
   ]
  },
  {
   "cell_type": "code",
   "execution_count": 32,
   "id": "ba432c8b-b254-424e-b264-4003ef0d88e2",
   "metadata": {},
   "outputs": [
    {
     "data": {
      "text/plain": [
       "bool"
      ]
     },
     "execution_count": 32,
     "metadata": {},
     "output_type": "execute_result"
    }
   ],
   "source": [
    "type(m)"
   ]
  },
  {
   "cell_type": "code",
   "execution_count": 33,
   "id": "46d84e41-9a7a-48ad-865e-70e99a810e28",
   "metadata": {},
   "outputs": [
    {
     "data": {
      "text/plain": [
       "1"
      ]
     },
     "execution_count": 33,
     "metadata": {},
     "output_type": "execute_result"
    }
   ],
   "source": [
    "n+m"
   ]
  },
  {
   "cell_type": "code",
   "execution_count": 34,
   "id": "9eb1c72a-3a14-4bfa-a26c-cd89cb6ffba5",
   "metadata": {},
   "outputs": [
    {
     "data": {
      "text/plain": [
       "0"
      ]
     },
     "execution_count": 34,
     "metadata": {},
     "output_type": "execute_result"
    }
   ],
   "source": [
    "n*m"
   ]
  },
  {
   "cell_type": "code",
   "execution_count": 35,
   "id": "98f19113-5620-43a6-8e02-1c83763a47dd",
   "metadata": {},
   "outputs": [
    {
     "data": {
      "text/plain": [
       "1"
      ]
     },
     "execution_count": 35,
     "metadata": {},
     "output_type": "execute_result"
    }
   ],
   "source": [
    "True*True"
   ]
  },
  {
   "cell_type": "code",
   "execution_count": 36,
   "id": "57c39d29-916e-427d-9f51-83f3fc4c4c90",
   "metadata": {},
   "outputs": [
    {
     "data": {
      "text/plain": [
       "0"
      ]
     },
     "execution_count": 36,
     "metadata": {},
     "output_type": "execute_result"
    }
   ],
   "source": [
    "True*False"
   ]
  },
  {
   "cell_type": "code",
   "execution_count": 37,
   "id": "8f78d84d-2cab-4591-bff1-11621577fba6",
   "metadata": {},
   "outputs": [
    {
     "ename": "ZeroDivisionError",
     "evalue": "division by zero",
     "output_type": "error",
     "traceback": [
      "\u001b[0;31m---------------------------------------------------------------------------\u001b[0m",
      "\u001b[0;31mZeroDivisionError\u001b[0m                         Traceback (most recent call last)",
      "Cell \u001b[0;32mIn[37], line 1\u001b[0m\n\u001b[0;32m----> 1\u001b[0m \u001b[38;5;28;43;01mTrue\u001b[39;49;00m\u001b[38;5;241;43m/\u001b[39;49m\u001b[38;5;28;43;01mFalse\u001b[39;49;00m\n",
      "\u001b[0;31mZeroDivisionError\u001b[0m: division by zero"
     ]
    }
   ],
   "source": [
    "True/False"
   ]
  },
  {
   "cell_type": "code",
   "execution_count": 38,
   "id": "a1342519-8456-439d-a728-b471cea898cb",
   "metadata": {},
   "outputs": [
    {
     "ename": "ZeroDivisionError",
     "evalue": "division by zero",
     "output_type": "error",
     "traceback": [
      "\u001b[0;31m---------------------------------------------------------------------------\u001b[0m",
      "\u001b[0;31mZeroDivisionError\u001b[0m                         Traceback (most recent call last)",
      "Cell \u001b[0;32mIn[38], line 1\u001b[0m\n\u001b[0;32m----> 1\u001b[0m \u001b[38;5;241;43m1\u001b[39;49m\u001b[38;5;241;43m/\u001b[39;49m\u001b[38;5;241;43m0\u001b[39;49m\n",
      "\u001b[0;31mZeroDivisionError\u001b[0m: division by zero"
     ]
    }
   ],
   "source": [
    "1/0"
   ]
  },
  {
   "cell_type": "code",
   "execution_count": 42,
   "id": "e15d7c1b-c0f8-4193-ae73-a719b9575f9d",
   "metadata": {},
   "outputs": [
    {
     "data": {
      "text/plain": [
       "(3+4j)"
      ]
     },
     "execution_count": 42,
     "metadata": {},
     "output_type": "execute_result"
    }
   ],
   "source": [
    "v = 3+4j\n",
    "v"
   ]
  },
  {
   "cell_type": "code",
   "execution_count": 49,
   "id": "b1ee0281-463a-40ff-a347-a2286337074b",
   "metadata": {},
   "outputs": [
    {
     "data": {
      "text/plain": [
       "complex"
      ]
     },
     "execution_count": 49,
     "metadata": {},
     "output_type": "execute_result"
    }
   ],
   "source": [
    "type(v)"
   ]
  },
  {
   "cell_type": "code",
   "execution_count": 46,
   "id": "6b423579-bc5f-434d-bcab-0ddd40e9974d",
   "metadata": {},
   "outputs": [
    {
     "data": {
      "text/plain": [
       "3.0"
      ]
     },
     "execution_count": 46,
     "metadata": {},
     "output_type": "execute_result"
    }
   ],
   "source": [
    "v.real"
   ]
  },
  {
   "cell_type": "code",
   "execution_count": 48,
   "id": "fc17ef5f-0408-40e4-a52a-c0e76541cb27",
   "metadata": {},
   "outputs": [
    {
     "data": {
      "text/plain": [
       "4.0"
      ]
     },
     "execution_count": 48,
     "metadata": {},
     "output_type": "execute_result"
    }
   ],
   "source": [
    "v.imag\n"
   ]
  },
  {
   "cell_type": "code",
   "execution_count": 50,
   "id": "efd200d3-eddc-490c-9eb6-76c07a1b865a",
   "metadata": {},
   "outputs": [
    {
     "data": {
      "text/plain": [
       "(3+4j)"
      ]
     },
     "execution_count": 50,
     "metadata": {},
     "output_type": "execute_result"
    }
   ],
   "source": [
    "v"
   ]
  },
  {
   "cell_type": "code",
   "execution_count": 51,
   "id": "8a4e7e55-f352-4eee-8bcd-b715438d30e8",
   "metadata": {},
   "outputs": [
    {
     "name": "stdout",
     "output_type": "stream",
     "text": [
      "Pradeep singh \n"
     ]
    }
   ],
   "source": [
    "print(\"Pradeep singh \")"
   ]
  },
  {
   "cell_type": "code",
   "execution_count": 52,
   "id": "9271981a-c5c4-4c68-9b04-a11049d6e139",
   "metadata": {},
   "outputs": [
    {
     "name": "stdout",
     "output_type": "stream",
     "text": [
      "(3+4j)\n"
     ]
    }
   ],
   "source": [
    "print(v)"
   ]
  },
  {
   "cell_type": "code",
   "execution_count": 3,
   "id": "b68f1c12-8a5a-4d75-a38a-c27647b1d6a0",
   "metadata": {},
   "outputs": [
    {
     "data": {
      "text/plain": [
       "'pwskills'"
      ]
     },
     "execution_count": 3,
     "metadata": {},
     "output_type": "execute_result"
    }
   ],
   "source": [
    "s = \"pwskills\"\n",
    "s\n"
   ]
  },
  {
   "cell_type": "code",
   "execution_count": 4,
   "id": "966ab0d8-aa68-49cb-adb7-e3caa523d397",
   "metadata": {},
   "outputs": [
    {
     "data": {
      "text/plain": [
       "str"
      ]
     },
     "execution_count": 4,
     "metadata": {},
     "output_type": "execute_result"
    }
   ],
   "source": [
    "type(s)\n"
   ]
  },
  {
   "cell_type": "code",
   "execution_count": 5,
   "id": "c0179d8b-aec7-4bcc-8d89-fd0611057fba",
   "metadata": {},
   "outputs": [
    {
     "data": {
      "text/plain": [
       "'l'"
      ]
     },
     "execution_count": 5,
     "metadata": {},
     "output_type": "execute_result"
    }
   ],
   "source": [
    "s[5]"
   ]
  },
  {
   "cell_type": "code",
   "execution_count": 6,
   "id": "8b1d477e-21b4-43a9-a4ea-82628818957a",
   "metadata": {},
   "outputs": [
    {
     "data": {
      "text/plain": [
       "'p'"
      ]
     },
     "execution_count": 6,
     "metadata": {},
     "output_type": "execute_result"
    }
   ],
   "source": [
    "s[0]"
   ]
  },
  {
   "cell_type": "code",
   "execution_count": 7,
   "id": "1d171b89-1739-4371-86d1-a69eec20e67c",
   "metadata": {},
   "outputs": [
    {
     "data": {
      "text/plain": [
       "'s'"
      ]
     },
     "execution_count": 7,
     "metadata": {},
     "output_type": "execute_result"
    }
   ],
   "source": [
    "s[-1]"
   ]
  },
  {
   "cell_type": "code",
   "execution_count": 10,
   "id": "66357211-f8d4-4677-a8c9-0cce0b085a39",
   "metadata": {},
   "outputs": [
    {
     "data": {
      "text/plain": [
       "'pws'"
      ]
     },
     "execution_count": 10,
     "metadata": {},
     "output_type": "execute_result"
    }
   ],
   "source": [
    "s[0:3]"
   ]
  },
  {
   "cell_type": "markdown",
   "id": "806890a0-7b35-4b98-996b-9c8b7753eff5",
   "metadata": {},
   "source": [
    "s[:3] "
   ]
  },
  {
   "cell_type": "code",
   "execution_count": 11,
   "id": "3a06a9f5-a1a1-4982-92e7-509357011b00",
   "metadata": {},
   "outputs": [
    {
     "data": {
      "text/plain": [
       "'pws'"
      ]
     },
     "execution_count": 11,
     "metadata": {},
     "output_type": "execute_result"
    }
   ],
   "source": [
    "s[:3]\n",
    "    "
   ]
  },
  {
   "cell_type": "code",
   "execution_count": 12,
   "id": "0dce6308-4c06-485c-9745-9133e5ac6372",
   "metadata": {},
   "outputs": [
    {
     "data": {
      "text/plain": [
       "'psil'"
      ]
     },
     "execution_count": 12,
     "metadata": {},
     "output_type": "execute_result"
    }
   ],
   "source": [
    "s[0:8:2]"
   ]
  },
  {
   "cell_type": "code",
   "execution_count": 13,
   "id": "fc5e6f9a-5507-46e3-b23a-51a4952621e4",
   "metadata": {},
   "outputs": [
    {
     "data": {
      "text/plain": [
       "'pkl'"
      ]
     },
     "execution_count": 13,
     "metadata": {},
     "output_type": "execute_result"
    }
   ],
   "source": [
    "s[0:8:3]"
   ]
  },
  {
   "cell_type": "code",
   "execution_count": 14,
   "id": "91022830-7ac9-44e1-9875-99be47f84113",
   "metadata": {},
   "outputs": [
    {
     "data": {
      "text/plain": [
       "'psil'"
      ]
     },
     "execution_count": 14,
     "metadata": {},
     "output_type": "execute_result"
    }
   ],
   "source": [
    "s[::2]"
   ]
  },
  {
   "cell_type": "code",
   "execution_count": 15,
   "id": "52f1c58b-3eb1-4d66-8eff-f08ffc90038f",
   "metadata": {},
   "outputs": [
    {
     "ename": "ValueError",
     "evalue": "slice step cannot be zero",
     "output_type": "error",
     "traceback": [
      "\u001b[0;31m---------------------------------------------------------------------------\u001b[0m",
      "\u001b[0;31mValueError\u001b[0m                                Traceback (most recent call last)",
      "Cell \u001b[0;32mIn[15], line 1\u001b[0m\n\u001b[0;32m----> 1\u001b[0m \u001b[43ms\u001b[49m\u001b[43m[\u001b[49m\u001b[43m:\u001b[49m\u001b[43m:\u001b[49m\u001b[38;5;241;43m0\u001b[39;49m\u001b[43m]\u001b[49m\n",
      "\u001b[0;31mValueError\u001b[0m: slice step cannot be zero"
     ]
    }
   ],
   "source": [
    "s[::0]"
   ]
  },
  {
   "cell_type": "code",
   "execution_count": 16,
   "id": "6ca5e83b-a363-4879-a69f-4c3b3123a294",
   "metadata": {},
   "outputs": [
    {
     "data": {
      "text/plain": [
       "'sllikswp'"
      ]
     },
     "execution_count": 16,
     "metadata": {},
     "output_type": "execute_result"
    }
   ],
   "source": [
    "s[::-1]"
   ]
  },
  {
   "cell_type": "code",
   "execution_count": 18,
   "id": "8b628324-16a9-49e6-9d18-e247c16a792f",
   "metadata": {},
   "outputs": [
    {
     "data": {
      "text/plain": [
       "'slkw'"
      ]
     },
     "execution_count": 18,
     "metadata": {},
     "output_type": "execute_result"
    }
   ],
   "source": [
    "s[::-2]"
   ]
  },
  {
   "cell_type": "code",
   "execution_count": 19,
   "id": "e7b1c029-1fbe-4e3b-b398-15d95e06f08b",
   "metadata": {},
   "outputs": [
    {
     "data": {
      "text/plain": [
       "''"
      ]
     },
     "execution_count": 19,
     "metadata": {},
     "output_type": "execute_result"
    }
   ],
   "source": [
    "s[2:7:-1]"
   ]
  },
  {
   "cell_type": "code",
   "execution_count": 20,
   "id": "ff2c07d6-71f4-48ed-a152-81ae52e2f62c",
   "metadata": {},
   "outputs": [
    {
     "data": {
      "text/plain": [
       "''"
      ]
     },
     "execution_count": 20,
     "metadata": {},
     "output_type": "execute_result"
    }
   ],
   "source": [
    "s[8:0]"
   ]
  },
  {
   "cell_type": "code",
   "execution_count": 22,
   "id": "e89a14f2-d084-413f-af6e-3f1c6bb13120",
   "metadata": {},
   "outputs": [
    {
     "data": {
      "text/plain": [
       "'slliksw'"
      ]
     },
     "execution_count": 22,
     "metadata": {},
     "output_type": "execute_result"
    }
   ],
   "source": [
    "s[10:0:-1]"
   ]
  },
  {
   "cell_type": "code",
   "execution_count": 1,
   "id": "c3d0138f-451b-4d2e-8e5f-bebc0a33214e",
   "metadata": {},
   "outputs": [
    {
     "ename": "NameError",
     "evalue": "name 's' is not defined",
     "output_type": "error",
     "traceback": [
      "\u001b[0;31m---------------------------------------------------------------------------\u001b[0m",
      "\u001b[0;31mNameError\u001b[0m                                 Traceback (most recent call last)",
      "Cell \u001b[0;32mIn[1], line 1\u001b[0m\n\u001b[0;32m----> 1\u001b[0m \u001b[43ms\u001b[49m[\u001b[38;5;241m-\u001b[39m\u001b[38;5;241m2\u001b[39m:\u001b[38;5;241m-\u001b[39m\u001b[38;5;241m8\u001b[39m:\u001b[38;5;241m-\u001b[39m\u001b[38;5;241m1\u001b[39m]\n",
      "\u001b[0;31mNameError\u001b[0m: name 's' is not defined"
     ]
    }
   ],
   "source": [
    "s[-2:-8:-1]"
   ]
  },
  {
   "cell_type": "code",
   "execution_count": 2,
   "id": "ddb5f736-90a3-4853-be7c-9f938713666b",
   "metadata": {},
   "outputs": [
    {
     "data": {
      "text/plain": [
       "'pradeepsingh'"
      ]
     },
     "execution_count": 2,
     "metadata": {},
     "output_type": "execute_result"
    }
   ],
   "source": [
    "s= \"pradeepsingh\"\n",
    "s"
   ]
  },
  {
   "cell_type": "code",
   "execution_count": 3,
   "id": "5b82c182-a9e1-4221-af5a-627e85403cc0",
   "metadata": {},
   "outputs": [
    {
     "data": {
      "text/plain": [
       "'gnispe'"
      ]
     },
     "execution_count": 3,
     "metadata": {},
     "output_type": "execute_result"
    }
   ],
   "source": [
    "s[-2:-8:-1]"
   ]
  },
  {
   "cell_type": "code",
   "execution_count": 4,
   "id": "6a86558b-8f38-4634-96ee-7e6d829021b1",
   "metadata": {},
   "outputs": [
    {
     "data": {
      "text/plain": [
       "'gnispeedarp'"
      ]
     },
     "execution_count": 4,
     "metadata": {},
     "output_type": "execute_result"
    }
   ],
   "source": [
    "s[-2::-1]"
   ]
  },
  {
   "cell_type": "code",
   "execution_count": 5,
   "id": "77bca157-70d8-4a0d-a070-3377a99a4776",
   "metadata": {},
   "outputs": [
    {
     "data": {
      "text/plain": [
       "'hgnispeedarp'"
      ]
     },
     "execution_count": 5,
     "metadata": {},
     "output_type": "execute_result"
    }
   ],
   "source": [
    "s[::-1]"
   ]
  },
  {
   "cell_type": "code",
   "execution_count": 6,
   "id": "1ab4e597-638c-443e-8dea-8ec395e53319",
   "metadata": {},
   "outputs": [
    {
     "data": {
      "text/plain": [
       "'pradeepsingh'"
      ]
     },
     "execution_count": 6,
     "metadata": {},
     "output_type": "execute_result"
    }
   ],
   "source": [
    "s[::1]"
   ]
  },
  {
   "cell_type": "code",
   "execution_count": 7,
   "id": "85daf928-c64a-4272-9325-cb296569bcae",
   "metadata": {},
   "outputs": [
    {
     "data": {
      "text/plain": [
       "'pradeepsingh'"
      ]
     },
     "execution_count": 7,
     "metadata": {},
     "output_type": "execute_result"
    }
   ],
   "source": [
    "s[:]"
   ]
  },
  {
   "cell_type": "code",
   "execution_count": 8,
   "id": "0c5176d4-9595-4274-9b43-18fc61a41556",
   "metadata": {},
   "outputs": [
    {
     "data": {
      "text/plain": [
       "'pradeepsingh'"
      ]
     },
     "execution_count": 8,
     "metadata": {},
     "output_type": "execute_result"
    }
   ],
   "source": [
    "s[::]"
   ]
  },
  {
   "cell_type": "code",
   "execution_count": 9,
   "id": "ec195b37-9469-42f8-8e1a-64060f95725e",
   "metadata": {},
   "outputs": [
    {
     "ename": "SyntaxError",
     "evalue": "invalid syntax (721920058.py, line 1)",
     "output_type": "error",
     "traceback": [
      "\u001b[0;36m  Cell \u001b[0;32mIn[9], line 1\u001b[0;36m\u001b[0m\n\u001b[0;31m    s[:::]\u001b[0m\n\u001b[0m        ^\u001b[0m\n\u001b[0;31mSyntaxError\u001b[0m\u001b[0;31m:\u001b[0m invalid syntax\n"
     ]
    }
   ],
   "source": [
    "s[:::]"
   ]
  },
  {
   "cell_type": "code",
   "execution_count": 10,
   "id": "f7723f82-3ecc-4bde-8d45-85968e6dfd37",
   "metadata": {},
   "outputs": [
    {
     "ename": "IndexError",
     "evalue": "string index out of range",
     "output_type": "error",
     "traceback": [
      "\u001b[0;31m---------------------------------------------------------------------------\u001b[0m",
      "\u001b[0;31mIndexError\u001b[0m                                Traceback (most recent call last)",
      "Cell \u001b[0;32mIn[10], line 1\u001b[0m\n\u001b[0;32m----> 1\u001b[0m \u001b[43ms\u001b[49m\u001b[43m[\u001b[49m\u001b[38;5;241;43m150\u001b[39;49m\u001b[43m]\u001b[49m\n",
      "\u001b[0;31mIndexError\u001b[0m: string index out of range"
     ]
    }
   ],
   "source": [
    "s[150]"
   ]
  },
  {
   "cell_type": "code",
   "execution_count": 11,
   "id": "a2404d1b-47e0-4463-8554-cfda8d6dcb20",
   "metadata": {},
   "outputs": [
    {
     "ename": "IndexError",
     "evalue": "string index out of range",
     "output_type": "error",
     "traceback": [
      "\u001b[0;31m---------------------------------------------------------------------------\u001b[0m",
      "\u001b[0;31mIndexError\u001b[0m                                Traceback (most recent call last)",
      "Cell \u001b[0;32mIn[11], line 1\u001b[0m\n\u001b[0;32m----> 1\u001b[0m \u001b[43ms\u001b[49m\u001b[43m[\u001b[49m\u001b[38;5;241;43m15\u001b[39;49m\u001b[43m]\u001b[49m\n",
      "\u001b[0;31mIndexError\u001b[0m: string index out of range"
     ]
    }
   ],
   "source": [
    "s[15]"
   ]
  },
  {
   "cell_type": "code",
   "execution_count": 12,
   "id": "be9b2a49-e92b-4bde-a10c-9019fec7b595",
   "metadata": {},
   "outputs": [
    {
     "data": {
      "text/plain": [
       "''"
      ]
     },
     "execution_count": 12,
     "metadata": {},
     "output_type": "execute_result"
    }
   ],
   "source": [
    "s[:-90:]"
   ]
  },
  {
   "cell_type": "code",
   "execution_count": 13,
   "id": "9e5d0e14-ed06-4ae2-a3c5-c9529ead1a51",
   "metadata": {},
   "outputs": [
    {
     "data": {
      "text/plain": [
       "'hgnispeedarp'"
      ]
     },
     "execution_count": 13,
     "metadata": {},
     "output_type": "execute_result"
    }
   ],
   "source": [
    "s[:-90:-1]"
   ]
  },
  {
   "cell_type": "code",
   "execution_count": 14,
   "id": "c7d99919-f776-4a79-a51e-892abf84d1b8",
   "metadata": {},
   "outputs": [
    {
     "data": {
      "text/plain": [
       "200"
      ]
     },
     "execution_count": 14,
     "metadata": {},
     "output_type": "execute_result"
    }
   ],
   "source": [
    "c = 200\n",
    "c"
   ]
  },
  {
   "cell_type": "code",
   "execution_count": 15,
   "id": "a6712a51-b6f1-4be5-9abe-b3ab0791bf42",
   "metadata": {},
   "outputs": [
    {
     "ename": "TypeError",
     "evalue": "'int' object is not subscriptable",
     "output_type": "error",
     "traceback": [
      "\u001b[0;31m---------------------------------------------------------------------------\u001b[0m",
      "\u001b[0;31mTypeError\u001b[0m                                 Traceback (most recent call last)",
      "Cell \u001b[0;32mIn[15], line 1\u001b[0m\n\u001b[0;32m----> 1\u001b[0m \u001b[43mc\u001b[49m\u001b[43m[\u001b[49m\u001b[38;5;241;43m1\u001b[39;49m\u001b[43m]\u001b[49m\n",
      "\u001b[0;31mTypeError\u001b[0m: 'int' object is not subscriptable"
     ]
    }
   ],
   "source": [
    "c[1]"
   ]
  },
  {
   "cell_type": "code",
   "execution_count": 16,
   "id": "9c37247f-2489-473d-8c0e-17394b4c6ab8",
   "metadata": {},
   "outputs": [
    {
     "data": {
      "text/plain": [
       "int"
      ]
     },
     "execution_count": 16,
     "metadata": {},
     "output_type": "execute_result"
    }
   ],
   "source": [
    "type(c)"
   ]
  },
  {
   "cell_type": "code",
   "execution_count": 17,
   "id": "e8c408e3-0b3a-45d3-b91e-68e0a6ae2441",
   "metadata": {},
   "outputs": [
    {
     "data": {
      "text/plain": [
       "'200'"
      ]
     },
     "execution_count": 17,
     "metadata": {},
     "output_type": "execute_result"
    }
   ],
   "source": [
    "c = \"200\"\n",
    "c"
   ]
  },
  {
   "cell_type": "code",
   "execution_count": 18,
   "id": "e1bd777a-4a88-48d4-9afa-9fda80df5c4c",
   "metadata": {},
   "outputs": [
    {
     "data": {
      "text/plain": [
       "'0'"
      ]
     },
     "execution_count": 18,
     "metadata": {},
     "output_type": "execute_result"
    }
   ],
   "source": [
    "c[1]"
   ]
  },
  {
   "cell_type": "code",
   "execution_count": 19,
   "id": "8c78fdcf-86b5-4df7-b3e7-b2cad5ed6596",
   "metadata": {},
   "outputs": [
    {
     "data": {
      "text/plain": [
       "'2'"
      ]
     },
     "execution_count": 19,
     "metadata": {},
     "output_type": "execute_result"
    }
   ],
   "source": [
    "c[0]"
   ]
  },
  {
   "cell_type": "code",
   "execution_count": 20,
   "id": "2a6a20c3-14cd-41df-a4c8-1fc502de1f39",
   "metadata": {},
   "outputs": [
    {
     "data": {
      "text/plain": [
       "'I am studying at iit kharagpur'"
      ]
     },
     "execution_count": 20,
     "metadata": {},
     "output_type": "execute_result"
    }
   ],
   "source": [
    "s1 = \"I am studying at iit kharagpur\"\n",
    "s1"
   ]
  },
  {
   "cell_type": "code",
   "execution_count": 21,
   "id": "d8ddaa20-61ad-4f6d-8e38-9dcd1e4739af",
   "metadata": {},
   "outputs": [
    {
     "data": {
      "text/plain": [
       "30"
      ]
     },
     "execution_count": 21,
     "metadata": {},
     "output_type": "execute_result"
    }
   ],
   "source": [
    "len(s1)"
   ]
  },
  {
   "cell_type": "code",
   "execution_count": 22,
   "id": "e0b03625-300a-4a08-bb01-c28862b19994",
   "metadata": {},
   "outputs": [
    {
     "data": {
      "text/plain": [
       "5"
      ]
     },
     "execution_count": 22,
     "metadata": {},
     "output_type": "execute_result"
    }
   ],
   "source": [
    "s1.find('s')"
   ]
  },
  {
   "cell_type": "code",
   "execution_count": 23,
   "id": "6b5e935e-0bff-408a-a139-2c5fa2bd462d",
   "metadata": {},
   "outputs": [
    {
     "data": {
      "text/plain": [
       "8"
      ]
     },
     "execution_count": 23,
     "metadata": {},
     "output_type": "execute_result"
    }
   ],
   "source": [
    "s1.find('d')"
   ]
  },
  {
   "cell_type": "code",
   "execution_count": 24,
   "id": "377313f6-0c1e-4e4d-88d6-66f56480f940",
   "metadata": {},
   "outputs": [
    {
     "data": {
      "text/plain": [
       "-1"
      ]
     },
     "execution_count": 24,
     "metadata": {},
     "output_type": "execute_result"
    }
   ],
   "source": [
    "s1.find('z')"
   ]
  },
  {
   "cell_type": "code",
   "execution_count": 25,
   "id": "ecbfeb2c-77ea-48d9-ad1e-764c0cc09bec",
   "metadata": {},
   "outputs": [
    {
     "data": {
      "text/plain": [
       "2"
      ]
     },
     "execution_count": 25,
     "metadata": {},
     "output_type": "execute_result"
    }
   ],
   "source": [
    "s1.find('am')"
   ]
  },
  {
   "cell_type": "code",
   "execution_count": 26,
   "id": "0543c367-4ef2-4cec-890e-ee0637c234d4",
   "metadata": {},
   "outputs": [
    {
     "data": {
      "text/plain": [
       "1"
      ]
     },
     "execution_count": 26,
     "metadata": {},
     "output_type": "execute_result"
    }
   ],
   "source": [
    "s1.count('s')"
   ]
  },
  {
   "cell_type": "code",
   "execution_count": 27,
   "id": "49cbad37-5a1d-4c7e-a898-ed5d85c170a5",
   "metadata": {},
   "outputs": [
    {
     "data": {
      "text/plain": [
       "0"
      ]
     },
     "execution_count": 27,
     "metadata": {},
     "output_type": "execute_result"
    }
   ],
   "source": [
    "s1.count('e')"
   ]
  },
  {
   "cell_type": "code",
   "execution_count": 28,
   "id": "42e0e8b3-e734-4647-a8f4-fedff992ca31",
   "metadata": {},
   "outputs": [
    {
     "data": {
      "text/plain": [
       "3"
      ]
     },
     "execution_count": 28,
     "metadata": {},
     "output_type": "execute_result"
    }
   ],
   "source": [
    "s1.count('i')"
   ]
  },
  {
   "cell_type": "code",
   "execution_count": 29,
   "id": "88056f41-b5b3-425a-a767-285cf642b40a",
   "metadata": {},
   "outputs": [
    {
     "data": {
      "text/plain": [
       "'I am studying at iit kharagpur'"
      ]
     },
     "execution_count": 29,
     "metadata": {},
     "output_type": "execute_result"
    }
   ],
   "source": [
    "s1"
   ]
  },
  {
   "cell_type": "code",
   "execution_count": 30,
   "id": "5bde41b9-4188-4bae-93dd-5a7c347bbb04",
   "metadata": {},
   "outputs": [
    {
     "data": {
      "text/plain": [
       "'I AM STUDYING AT IIT KHARAGPUR'"
      ]
     },
     "execution_count": 30,
     "metadata": {},
     "output_type": "execute_result"
    }
   ],
   "source": [
    "s1.upper()"
   ]
  },
  {
   "cell_type": "code",
   "execution_count": 31,
   "id": "6b5c3b59-fef0-49f7-986d-89c130ec0e33",
   "metadata": {},
   "outputs": [
    {
     "data": {
      "text/plain": [
       "'i am studying at iit kharagpur'"
      ]
     },
     "execution_count": 31,
     "metadata": {},
     "output_type": "execute_result"
    }
   ],
   "source": [
    "s1.lower()"
   ]
  },
  {
   "cell_type": "code",
   "execution_count": 32,
   "id": "46c5605e-7a79-4e40-9b67-1c019678d80e",
   "metadata": {},
   "outputs": [
    {
     "data": {
      "text/plain": [
       "'I Am Studying At Iit Kharagpur'"
      ]
     },
     "execution_count": 32,
     "metadata": {},
     "output_type": "execute_result"
    }
   ],
   "source": [
    "s1.title()"
   ]
  },
  {
   "cell_type": "code",
   "execution_count": 33,
   "id": "5c1c8698-4dda-4c09-82bd-8b846d9d1016",
   "metadata": {},
   "outputs": [
    {
     "data": {
      "text/plain": [
       "'I am studying at iit kharagpur'"
      ]
     },
     "execution_count": 33,
     "metadata": {},
     "output_type": "execute_result"
    }
   ],
   "source": [
    "s1.capitalize()"
   ]
  },
  {
   "cell_type": "code",
   "execution_count": 34,
   "id": "62512776-1f44-4aa0-a09b-d8cec538cda2",
   "metadata": {},
   "outputs": [
    {
     "data": {
      "text/plain": [
       "'pradeepsingh'"
      ]
     },
     "execution_count": 34,
     "metadata": {},
     "output_type": "execute_result"
    }
   ],
   "source": [
    "s"
   ]
  },
  {
   "cell_type": "code",
   "execution_count": 35,
   "id": "74b3db93-61a2-4b44-9106-70584b2b26a6",
   "metadata": {},
   "outputs": [
    {
     "ename": "TypeError",
     "evalue": "can only concatenate str (not \"int\") to str",
     "output_type": "error",
     "traceback": [
      "\u001b[0;31m---------------------------------------------------------------------------\u001b[0m",
      "\u001b[0;31mTypeError\u001b[0m                                 Traceback (most recent call last)",
      "Cell \u001b[0;32mIn[35], line 1\u001b[0m\n\u001b[0;32m----> 1\u001b[0m \u001b[43ms\u001b[49m\u001b[38;5;241;43m+\u001b[39;49m\u001b[38;5;241;43m1\u001b[39;49m\n",
      "\u001b[0;31mTypeError\u001b[0m: can only concatenate str (not \"int\") to str"
     ]
    }
   ],
   "source": [
    "s+1"
   ]
  },
  {
   "cell_type": "code",
   "execution_count": 36,
   "id": "b858eda4-5c04-4309-95a8-de403690231a",
   "metadata": {},
   "outputs": [
    {
     "ename": "SyntaxError",
     "evalue": "unterminated string literal (detected at line 1) (4290935.py, line 1)",
     "output_type": "error",
     "traceback": [
      "\u001b[0;36m  Cell \u001b[0;32mIn[36], line 1\u001b[0;36m\u001b[0m\n\u001b[0;31m    s+'1\"\u001b[0m\n\u001b[0m      ^\u001b[0m\n\u001b[0;31mSyntaxError\u001b[0m\u001b[0;31m:\u001b[0m unterminated string literal (detected at line 1)\n"
     ]
    }
   ],
   "source": [
    "s+'1\""
   ]
  },
  {
   "cell_type": "code",
   "execution_count": 37,
   "id": "8eb1e1dc-e773-4e4e-afc4-b2288878c476",
   "metadata": {},
   "outputs": [
    {
     "data": {
      "text/plain": [
       "'pradeepsingh1'"
      ]
     },
     "execution_count": 37,
     "metadata": {},
     "output_type": "execute_result"
    }
   ],
   "source": [
    "s+'1'"
   ]
  },
  {
   "cell_type": "code",
   "execution_count": 38,
   "id": "02a62c4f-632a-4d56-b25f-c54073342897",
   "metadata": {},
   "outputs": [
    {
     "data": {
      "text/plain": [
       "27"
      ]
     },
     "execution_count": 38,
     "metadata": {},
     "output_type": "execute_result"
    }
   ],
   "source": [
    "12+15"
   ]
  },
  {
   "cell_type": "code",
   "execution_count": 39,
   "id": "a332a73e-18b9-4aa7-8460-06e499eb2124",
   "metadata": {},
   "outputs": [
    {
     "data": {
      "text/plain": [
       "'1215'"
      ]
     },
     "execution_count": 39,
     "metadata": {},
     "output_type": "execute_result"
    }
   ],
   "source": [
    "'12'+'15'"
   ]
  },
  {
   "cell_type": "code",
   "execution_count": 40,
   "id": "78decaee-fc47-4677-8e7a-f14a9a3ae0b2",
   "metadata": {},
   "outputs": [
    {
     "data": {
      "text/plain": [
       "'pradeepsingh12'"
      ]
     },
     "execution_count": 40,
     "metadata": {},
     "output_type": "execute_result"
    }
   ],
   "source": [
    "s+str(12)"
   ]
  },
  {
   "cell_type": "code",
   "execution_count": 41,
   "id": "502b83d9-b656-4394-b500-6e88b6345e29",
   "metadata": {},
   "outputs": [
    {
     "data": {
      "text/plain": [
       "'pradeepsinghpradeepsinghpradeepsingh'"
      ]
     },
     "execution_count": 41,
     "metadata": {},
     "output_type": "execute_result"
    }
   ],
   "source": [
    "s*3"
   ]
  },
  {
   "cell_type": "code",
   "execution_count": 42,
   "id": "179e22e6-ef08-483e-9662-2de338fcd52d",
   "metadata": {},
   "outputs": [
    {
     "data": {
      "text/plain": [
       "'pradeepsinghpradeepsinghpradeepsinghpradeepsinghpradeepsinghpradeepsinghpradeepsinghpradeepsinghpradeepsinghpradeepsinghpradeepsinghpradeepsinghpradeepsinghpradeepsinghpradeepsingh'"
      ]
     },
     "execution_count": 42,
     "metadata": {},
     "output_type": "execute_result"
    }
   ],
   "source": [
    "s*15"
   ]
  },
  {
   "cell_type": "code",
   "execution_count": 43,
   "id": "3eac0a78-f6f2-46b5-8027-6ddc54a011c0",
   "metadata": {},
   "outputs": [
    {
     "data": {
      "text/plain": [
       "'pradeeppradeeppradeep'"
      ]
     },
     "execution_count": 43,
     "metadata": {},
     "output_type": "execute_result"
    }
   ],
   "source": [
    "'pradeep'*3\n"
   ]
  },
  {
   "cell_type": "code",
   "execution_count": 44,
   "id": "7335f97a-fd8f-462b-9521-d4ca7534f475",
   "metadata": {},
   "outputs": [
    {
     "data": {
      "text/plain": [
       "'I am studying at iit kharagpurI am studying at iit kharagpurI am studying at iit kharagpurI am studying at iit kharagpurI am studying at iit kharagpur'"
      ]
     },
     "execution_count": 44,
     "metadata": {},
     "output_type": "execute_result"
    }
   ],
   "source": [
    "s1*5"
   ]
  },
  {
   "cell_type": "code",
   "execution_count": 46,
   "id": "747ebcd3-a4a3-4122-a83e-504ca5d0f2ff",
   "metadata": {},
   "outputs": [
    {
     "data": {
      "text/plain": [
       "\"don't do copy and paste in my class\""
      ]
     },
     "execution_count": 46,
     "metadata": {},
     "output_type": "execute_result"
    }
   ],
   "source": [
    "\"don't do copy and paste in my class\""
   ]
  },
  {
   "cell_type": "code",
   "execution_count": 47,
   "id": "d24214ed-8c9b-411a-b454-b6203cd3cba6",
   "metadata": {},
   "outputs": [
    {
     "data": {
      "text/plain": [
       "'don\"t do copy and paste in my class'"
      ]
     },
     "execution_count": 47,
     "metadata": {},
     "output_type": "execute_result"
    }
   ],
   "source": [
    "'don\"t do copy and paste in my class'"
   ]
  },
  {
   "cell_type": "code",
   "execution_count": 52,
   "id": "069329f2-66d2-4b38-84fe-0aef28521d61",
   "metadata": {},
   "outputs": [
    {
     "data": {
      "text/plain": [
       "'This is my first class in data science\\nmy name is pradeep singh narwariya and doing nothing '"
      ]
     },
     "execution_count": 52,
     "metadata": {},
     "output_type": "execute_result"
    }
   ],
   "source": [
    "# This is my first class in data science\n",
    "# my name is pradeep singh narwariya and doing nothing s1"
   ]
  },
  {
   "cell_type": "code",
   "execution_count": 53,
   "id": "e7ced3a9-f129-4fa1-9898-f7bd5fe4d243",
   "metadata": {},
   "outputs": [
    {
     "data": {
      "text/plain": [
       "'pradeepsingh'"
      ]
     },
     "execution_count": 53,
     "metadata": {},
     "output_type": "execute_result"
    }
   ],
   "source": [
    "s"
   ]
  },
  {
   "cell_type": "code",
   "execution_count": 55,
   "id": "8e75ecd6-043a-4d42-a1f5-317a167ffa62",
   "metadata": {},
   "outputs": [
    {
     "data": {
      "text/plain": [
       "'EDARP'"
      ]
     },
     "execution_count": 55,
     "metadata": {},
     "output_type": "execute_result"
    }
   ],
   "source": [
    "s[-8::-1].upper()"
   ]
  },
  {
   "cell_type": "code",
   "execution_count": 57,
   "id": "0b1a0804-044b-464b-a10b-214b711a06e0",
   "metadata": {},
   "outputs": [
    {
     "data": {
      "text/plain": [
       "' pradeep'"
      ]
     },
     "execution_count": 57,
     "metadata": {},
     "output_type": "execute_result"
    }
   ],
   "source": [
    "s =' pradeep'\n",
    "s"
   ]
  },
  {
   "cell_type": "code",
   "execution_count": 58,
   "id": "353b9b14-7edd-41b8-b690-89a448b8e0a7",
   "metadata": {},
   "outputs": [
    {
     "name": "stdout",
     "output_type": "stream",
     "text": [
      " pradeep\n"
     ]
    }
   ],
   "source": [
    "print(s)"
   ]
  },
  {
   "cell_type": "code",
   "execution_count": 59,
   "id": "02b9d5dc-e20f-47bd-aa22-00dcfec32d93",
   "metadata": {},
   "outputs": [],
   "source": [
    "s = 'sanju '"
   ]
  },
  {
   "cell_type": "code",
   "execution_count": 60,
   "id": "d42d7c43-b712-4c8f-a288-95e471975ea4",
   "metadata": {},
   "outputs": [
    {
     "data": {
      "text/plain": [
       "'sanju '"
      ]
     },
     "execution_count": 60,
     "metadata": {},
     "output_type": "execute_result"
    }
   ],
   "source": [
    "s"
   ]
  },
  {
   "cell_type": "code",
   "execution_count": 61,
   "id": "9526b500-8694-4dac-a9dc-43db11ad4cc3",
   "metadata": {},
   "outputs": [
    {
     "data": {
      "text/plain": [
       "'sanju sanju sanju sanju sanju '"
      ]
     },
     "execution_count": 61,
     "metadata": {},
     "output_type": "execute_result"
    }
   ],
   "source": [
    "s*5"
   ]
  },
  {
   "cell_type": "markdown",
   "id": "a67fff68-f8e4-4ac6-9426-d7d0bd7abd30",
   "metadata": {},
   "source": [
    "#  list ,tuple,set 30th jan "
   ]
  },
  {
   "cell_type": "code",
   "execution_count": 3,
   "id": "a6727f7c-3b7a-45c5-a5d7-866a0723aad8",
   "metadata": {},
   "outputs": [
    {
     "data": {
      "text/plain": [
       "[1, 345, '2356', 'pradeeep', True, (5+7j), 20.0, 20.56]"
      ]
     },
     "execution_count": 3,
     "metadata": {},
     "output_type": "execute_result"
    }
   ],
   "source": [
    "l = [1,345,'2356','pradeeep',True,5+7j,20.0,20.56]\n",
    "l"
   ]
  },
  {
   "cell_type": "code",
   "execution_count": 64,
   "id": "f5d6b10d-c937-4405-a932-39ac76f7d408",
   "metadata": {},
   "outputs": [
    {
     "data": {
      "text/plain": [
       "list"
      ]
     },
     "execution_count": 64,
     "metadata": {},
     "output_type": "execute_result"
    }
   ],
   "source": [
    "type(l)"
   ]
  },
  {
   "cell_type": "code",
   "execution_count": 65,
   "id": "a1d14205-3421-493c-ad01-6727043138a2",
   "metadata": {},
   "outputs": [
    {
     "data": {
      "text/plain": [
       "345"
      ]
     },
     "execution_count": 65,
     "metadata": {},
     "output_type": "execute_result"
    }
   ],
   "source": [
    "l[1]"
   ]
  },
  {
   "cell_type": "code",
   "execution_count": 67,
   "id": "cfc4a474-b8fc-4597-896d-8c218cc286d0",
   "metadata": {},
   "outputs": [
    {
     "data": {
      "text/plain": [
       "(5+7j)"
      ]
     },
     "execution_count": 67,
     "metadata": {},
     "output_type": "execute_result"
    }
   ],
   "source": [
    "l[4]"
   ]
  },
  {
   "cell_type": "code",
   "execution_count": 69,
   "id": "fda8eb52-8549-4c11-ae63-745fce1b0661",
   "metadata": {},
   "outputs": [
    {
     "ename": "IndexError",
     "evalue": "list index out of range",
     "output_type": "error",
     "traceback": [
      "\u001b[0;31m---------------------------------------------------------------------------\u001b[0m",
      "\u001b[0;31mIndexError\u001b[0m                                Traceback (most recent call last)",
      "Cell \u001b[0;32mIn[69], line 1\u001b[0m\n\u001b[0;32m----> 1\u001b[0m \u001b[43ml\u001b[49m\u001b[43m[\u001b[49m\u001b[38;5;241;43m20\u001b[39;49m\u001b[43m]\u001b[49m\n",
      "\u001b[0;31mIndexError\u001b[0m: list index out of range"
     ]
    }
   ],
   "source": [
    "l[20]"
   ]
  },
  {
   "cell_type": "code",
   "execution_count": 70,
   "id": "fbcbd692-affa-49ec-b105-5bb2eac20bdc",
   "metadata": {},
   "outputs": [
    {
     "data": {
      "text/plain": [
       "7"
      ]
     },
     "execution_count": 70,
     "metadata": {},
     "output_type": "execute_result"
    }
   ],
   "source": [
    "len(l)"
   ]
  },
  {
   "cell_type": "code",
   "execution_count": 71,
   "id": "8d96f07f-8f04-43d1-a456-6c7dd2fe8efb",
   "metadata": {},
   "outputs": [
    {
     "ename": "IndexError",
     "evalue": "list index out of range",
     "output_type": "error",
     "traceback": [
      "\u001b[0;31m---------------------------------------------------------------------------\u001b[0m",
      "\u001b[0;31mIndexError\u001b[0m                                Traceback (most recent call last)",
      "Cell \u001b[0;32mIn[71], line 1\u001b[0m\n\u001b[0;32m----> 1\u001b[0m \u001b[43ml\u001b[49m\u001b[43m[\u001b[49m\u001b[38;5;241;43m7\u001b[39;49m\u001b[43m]\u001b[49m\n",
      "\u001b[0;31mIndexError\u001b[0m: list index out of range"
     ]
    }
   ],
   "source": [
    "l[7]"
   ]
  },
  {
   "cell_type": "code",
   "execution_count": 72,
   "id": "9e093668-322e-4bfd-9f70-03cadd014d5f",
   "metadata": {},
   "outputs": [
    {
     "data": {
      "text/plain": [
       "20.56"
      ]
     },
     "execution_count": 72,
     "metadata": {},
     "output_type": "execute_result"
    }
   ],
   "source": [
    "l[6]"
   ]
  },
  {
   "cell_type": "code",
   "execution_count": 74,
   "id": "980a1702-a247-4b1b-9c1d-d141a93a1a10",
   "metadata": {},
   "outputs": [
    {
     "data": {
      "text/plain": [
       "[1, 345, '236']"
      ]
     },
     "execution_count": 74,
     "metadata": {},
     "output_type": "execute_result"
    }
   ],
   "source": [
    "l[0:3]"
   ]
  },
  {
   "cell_type": "code",
   "execution_count": 75,
   "id": "bc20bfd4-9fa1-482e-a04a-b36acf811be2",
   "metadata": {},
   "outputs": [
    {
     "data": {
      "text/plain": [
       "20.56"
      ]
     },
     "execution_count": 75,
     "metadata": {},
     "output_type": "execute_result"
    }
   ],
   "source": [
    "l[-1]"
   ]
  },
  {
   "cell_type": "code",
   "execution_count": 76,
   "id": "f565e9a9-bf5b-4b00-987b-ec3f8d7b9632",
   "metadata": {},
   "outputs": [
    {
     "data": {
      "text/plain": [
       "[20.56, 20.0, (5+7j), 'pradeeep', '236', 345, 1]"
      ]
     },
     "execution_count": 76,
     "metadata": {},
     "output_type": "execute_result"
    }
   ],
   "source": [
    "l[::-1]"
   ]
  },
  {
   "cell_type": "code",
   "execution_count": 77,
   "id": "2d5e2b18-138d-4255-9712-febff1024e34",
   "metadata": {},
   "outputs": [
    {
     "data": {
      "text/plain": [
       "[345, 1]"
      ]
     },
     "execution_count": 77,
     "metadata": {},
     "output_type": "execute_result"
    }
   ],
   "source": [
    "l[-6::-1]"
   ]
  },
  {
   "cell_type": "code",
   "execution_count": 79,
   "id": "9591dd47-3cb3-46e8-99fb-bce9c5475825",
   "metadata": {},
   "outputs": [
    {
     "data": {
      "text/plain": [
       "[345, 1]"
      ]
     },
     "execution_count": 79,
     "metadata": {},
     "output_type": "execute_result"
    }
   ],
   "source": [
    "l[-6:-9:-1]"
   ]
  },
  {
   "cell_type": "code",
   "execution_count": 80,
   "id": "8fb196c8-06d7-48ee-8f03-9744c9e4db6c",
   "metadata": {},
   "outputs": [
    {
     "data": {
      "text/plain": [
       "[1, '236', (5+7j), 20.56]"
      ]
     },
     "execution_count": 80,
     "metadata": {},
     "output_type": "execute_result"
    }
   ],
   "source": [
    "l[0:8:2]"
   ]
  },
  {
   "cell_type": "code",
   "execution_count": 81,
   "id": "ba2c5ade-06c7-4e7c-83a4-59f3f42b00ea",
   "metadata": {},
   "outputs": [
    {
     "data": {
      "text/plain": [
       "[1, '236', (5+7j), 20.56]"
      ]
     },
     "execution_count": 81,
     "metadata": {},
     "output_type": "execute_result"
    }
   ],
   "source": [
    "l[::2]"
   ]
  },
  {
   "cell_type": "code",
   "execution_count": null,
   "id": "6ebe3d21-39a4-48f0-a221-8cf89dd26ad8",
   "metadata": {},
   "outputs": [],
   "source": [
    "s = 'pwskills'"
   ]
  },
  {
   "cell_type": "code",
   "execution_count": 82,
   "id": "d27d4c88-bf25-46d9-bbe9-47c8b7df44e3",
   "metadata": {},
   "outputs": [
    {
     "ename": "TypeError",
     "evalue": "can only concatenate list (not \"str\") to list",
     "output_type": "error",
     "traceback": [
      "\u001b[0;31m---------------------------------------------------------------------------\u001b[0m",
      "\u001b[0;31mTypeError\u001b[0m                                 Traceback (most recent call last)",
      "Cell \u001b[0;32mIn[82], line 1\u001b[0m\n\u001b[0;32m----> 1\u001b[0m \u001b[43ml\u001b[49m\u001b[38;5;241;43m+\u001b[39;49m\u001b[43ms\u001b[49m\n",
      "\u001b[0;31mTypeError\u001b[0m: can only concatenate list (not \"str\") to list"
     ]
    }
   ],
   "source": [
    "l+s"
   ]
  },
  {
   "cell_type": "code",
   "execution_count": 86,
   "id": "cb84a8bc-e99c-472e-9915-3e178103f982",
   "metadata": {},
   "outputs": [
    {
     "ename": "TypeError",
     "evalue": "can only concatenate list (not \"int\") to list",
     "output_type": "error",
     "traceback": [
      "\u001b[0;31m---------------------------------------------------------------------------\u001b[0m",
      "\u001b[0;31mTypeError\u001b[0m                                 Traceback (most recent call last)",
      "Cell \u001b[0;32mIn[86], line 1\u001b[0m\n\u001b[0;32m----> 1\u001b[0m \u001b[38;5;28;43mlist\u001b[39;49m\u001b[43m(\u001b[49m\u001b[43ms\u001b[49m\u001b[43m)\u001b[49m\u001b[43m \u001b[49m\u001b[38;5;241;43m+\u001b[39;49m\u001b[38;5;241;43m1\u001b[39;49m\n",
      "\u001b[0;31mTypeError\u001b[0m: can only concatenate list (not \"int\") to list"
     ]
    }
   ],
   "source": [
    "list(s) +1"
   ]
  },
  {
   "cell_type": "code",
   "execution_count": 89,
   "id": "62eacf76-f4b9-4bd5-9b0d-6b1493cbc5d2",
   "metadata": {},
   "outputs": [
    {
     "data": {
      "text/plain": [
       "['s', 'a', 'n', 'j', 'u', ' ', 1, 345, '236', 'pradeeep', (5+7j), 20.0, 20.56]"
      ]
     },
     "execution_count": 89,
     "metadata": {},
     "output_type": "execute_result"
    }
   ],
   "source": [
    "list(s)+l"
   ]
  },
  {
   "cell_type": "code",
   "execution_count": 90,
   "id": "72c93948-e8ef-4371-94cf-dcdc5db611b4",
   "metadata": {},
   "outputs": [
    {
     "data": {
      "text/plain": [
       "[1, 345, '236', 'pradeeep', (5+7j), 20.0, 20.56]"
      ]
     },
     "execution_count": 90,
     "metadata": {},
     "output_type": "execute_result"
    }
   ],
   "source": [
    "l"
   ]
  },
  {
   "cell_type": "code",
   "execution_count": 91,
   "id": "7849b0c4-2122-4638-82e6-4f83bc34e237",
   "metadata": {},
   "outputs": [
    {
     "data": {
      "text/plain": [
       "(5+7j)"
      ]
     },
     "execution_count": 91,
     "metadata": {},
     "output_type": "execute_result"
    }
   ],
   "source": [
    "l[4]"
   ]
  },
  {
   "cell_type": "code",
   "execution_count": 93,
   "id": "c1be9c28-e9a6-4eee-8795-660f504bf8b5",
   "metadata": {},
   "outputs": [
    {
     "data": {
      "text/plain": [
       "'pradeeep'"
      ]
     },
     "execution_count": 93,
     "metadata": {},
     "output_type": "execute_result"
    }
   ],
   "source": [
    "l[3]"
   ]
  },
  {
   "cell_type": "code",
   "execution_count": 94,
   "id": "e0237b45-d8d4-417f-be2a-3fe54b3f0685",
   "metadata": {},
   "outputs": [
    {
     "data": {
      "text/plain": [
       "'pra'"
      ]
     },
     "execution_count": 94,
     "metadata": {},
     "output_type": "execute_result"
    }
   ],
   "source": [
    "l[3][0:3]"
   ]
  },
  {
   "cell_type": "code",
   "execution_count": 95,
   "id": "ff5abd4b-babe-4b20-b6da-28addd1497c2",
   "metadata": {},
   "outputs": [
    {
     "data": {
      "text/plain": [
       "[1, 345, '236', 'pradeeep', (5+7j), 20.0, 20.56]"
      ]
     },
     "execution_count": 95,
     "metadata": {},
     "output_type": "execute_result"
    }
   ],
   "source": [
    "l"
   ]
  },
  {
   "cell_type": "code",
   "execution_count": 97,
   "id": "b65bca94-9000-4323-8f31-647e7335d76a",
   "metadata": {},
   "outputs": [
    {
     "data": {
      "text/plain": [
       "[1, 345, '236', 'pradeeep', True, (5+7j), 20.0, 20.56]"
      ]
     },
     "execution_count": 97,
     "metadata": {},
     "output_type": "execute_result"
    }
   ],
   "source": [
    "l"
   ]
  },
  {
   "cell_type": "code",
   "execution_count": 98,
   "id": "b82f377f-f2d1-4c5c-8be8-9c0e3299d8dd",
   "metadata": {},
   "outputs": [
    {
     "data": {
      "text/plain": [
       "True"
      ]
     },
     "execution_count": 98,
     "metadata": {},
     "output_type": "execute_result"
    }
   ],
   "source": [
    "l[4]"
   ]
  },
  {
   "cell_type": "code",
   "execution_count": 99,
   "id": "408b65d7-8863-4bb4-b47d-145b68bac8b5",
   "metadata": {},
   "outputs": [
    {
     "ename": "TypeError",
     "evalue": "'bool' object is not subscriptable",
     "output_type": "error",
     "traceback": [
      "\u001b[0;31m---------------------------------------------------------------------------\u001b[0m",
      "\u001b[0;31mTypeError\u001b[0m                                 Traceback (most recent call last)",
      "Cell \u001b[0;32mIn[99], line 1\u001b[0m\n\u001b[0;32m----> 1\u001b[0m \u001b[43ml\u001b[49m\u001b[43m[\u001b[49m\u001b[38;5;241;43m4\u001b[39;49m\u001b[43m]\u001b[49m\u001b[43m[\u001b[49m\u001b[38;5;241;43m0\u001b[39;49m\u001b[43m:\u001b[49m\u001b[38;5;241;43m2\u001b[39;49m\u001b[43m]\u001b[49m\n",
      "\u001b[0;31mTypeError\u001b[0m: 'bool' object is not subscriptable"
     ]
    }
   ],
   "source": [
    "l[4][0:2]"
   ]
  },
  {
   "cell_type": "code",
   "execution_count": 100,
   "id": "317c6fdb-901e-48ab-9b51-ec2f33fed544",
   "metadata": {},
   "outputs": [
    {
     "data": {
      "text/plain": [
       "'Tr'"
      ]
     },
     "execution_count": 100,
     "metadata": {},
     "output_type": "execute_result"
    }
   ],
   "source": [
    "str(l[4])[0:2]"
   ]
  },
  {
   "cell_type": "code",
   "execution_count": 103,
   "id": "12902d7e-66c8-46ff-8863-8af7f0d81ffb",
   "metadata": {},
   "outputs": [
    {
     "ename": "TypeError",
     "evalue": "can only concatenate list (not \"int\") to list",
     "output_type": "error",
     "traceback": [
      "\u001b[0;31m---------------------------------------------------------------------------\u001b[0m",
      "\u001b[0;31mTypeError\u001b[0m                                 Traceback (most recent call last)",
      "Cell \u001b[0;32mIn[103], line 1\u001b[0m\n\u001b[0;32m----> 1\u001b[0m \u001b[43ml\u001b[49m\u001b[38;5;241;43m+\u001b[39;49m\u001b[38;5;241;43m5\u001b[39;49m\n",
      "\u001b[0;31mTypeError\u001b[0m: can only concatenate list (not \"int\") to list"
     ]
    }
   ],
   "source": [
    "l+5"
   ]
  },
  {
   "cell_type": "code",
   "execution_count": 1,
   "id": "f1a7281b-26ed-48c7-a6b4-794db98d6f69",
   "metadata": {},
   "outputs": [
    {
     "ename": "NameError",
     "evalue": "name 'l' is not defined",
     "output_type": "error",
     "traceback": [
      "\u001b[0;31m---------------------------------------------------------------------------\u001b[0m",
      "\u001b[0;31mNameError\u001b[0m                                 Traceback (most recent call last)",
      "Cell \u001b[0;32mIn[1], line 1\u001b[0m\n\u001b[0;32m----> 1\u001b[0m \u001b[43ml\u001b[49m\u001b[38;5;241m+\u001b[39m\u001b[38;5;241m5\u001b[39m\n",
      "\u001b[0;31mNameError\u001b[0m: name 'l' is not defined"
     ]
    }
   ],
   "source": [
    "l+5"
   ]
  },
  {
   "cell_type": "code",
   "execution_count": 4,
   "id": "2e7a05f8-87c6-4a06-ae0d-2e31ccfaddbc",
   "metadata": {},
   "outputs": [
    {
     "data": {
      "text/plain": [
       "[1, 345, '2356', 'pradeeep', True, (5+7j), 20.0, 20.56]"
      ]
     },
     "execution_count": 4,
     "metadata": {},
     "output_type": "execute_result"
    }
   ],
   "source": [
    "l"
   ]
  },
  {
   "cell_type": "code",
   "execution_count": 5,
   "id": "1ee3f4e6-4338-4294-8aa4-58009831418c",
   "metadata": {},
   "outputs": [
    {
     "ename": "TypeError",
     "evalue": "can only concatenate list (not \"int\") to list",
     "output_type": "error",
     "traceback": [
      "\u001b[0;31m---------------------------------------------------------------------------\u001b[0m",
      "\u001b[0;31mTypeError\u001b[0m                                 Traceback (most recent call last)",
      "Cell \u001b[0;32mIn[5], line 1\u001b[0m\n\u001b[0;32m----> 1\u001b[0m \u001b[43ml\u001b[49m\u001b[38;5;241;43m+\u001b[39;49m\u001b[38;5;241;43m1\u001b[39;49m\n",
      "\u001b[0;31mTypeError\u001b[0m: can only concatenate list (not \"int\") to list"
     ]
    }
   ],
   "source": [
    "l+1"
   ]
  },
  {
   "cell_type": "code",
   "execution_count": 11,
   "id": "02c1948d-af0a-4f1b-8832-6a816fcd9749",
   "metadata": {},
   "outputs": [
    {
     "data": {
      "text/plain": [
       "[3, 4, 5, 6]"
      ]
     },
     "execution_count": 11,
     "metadata": {},
     "output_type": "execute_result"
    }
   ],
   "source": [
    "l1 = [3,4,5,6  ]\n",
    "l1"
   ]
  },
  {
   "cell_type": "code",
   "execution_count": 7,
   "id": "38e2e9a6-67ae-42a9-8bf1-cba97cdf5d59",
   "metadata": {},
   "outputs": [
    {
     "data": {
      "text/plain": [
       "[1, 345, '2356', 'pradeeep', True, (5+7j), 20.0, 20.56, 3, 4, 5, 6]"
      ]
     },
     "execution_count": 7,
     "metadata": {},
     "output_type": "execute_result"
    }
   ],
   "source": [
    "l+l1"
   ]
  },
  {
   "cell_type": "code",
   "execution_count": 12,
   "id": "ed07bb53-251e-41cf-9ed0-9d81f518158b",
   "metadata": {},
   "outputs": [
    {
     "data": {
      "text/plain": [
       "[3, 4, 5, 6, 3, 4, 5, 6, 3, 4, 5, 6]"
      ]
     },
     "execution_count": 12,
     "metadata": {},
     "output_type": "execute_result"
    }
   ],
   "source": [
    "l1*3"
   ]
  },
  {
   "cell_type": "code",
   "execution_count": 13,
   "id": "d90b4135-6b74-481e-b910-11c0cd08935c",
   "metadata": {},
   "outputs": [
    {
     "data": {
      "text/plain": [
       "8"
      ]
     },
     "execution_count": 13,
     "metadata": {},
     "output_type": "execute_result"
    }
   ],
   "source": [
    "len(l)"
   ]
  },
  {
   "cell_type": "code",
   "execution_count": 14,
   "id": "b8551fcb-735e-4712-bfe8-844f7c954f2a",
   "metadata": {},
   "outputs": [],
   "source": [
    "l.append(5)"
   ]
  },
  {
   "cell_type": "code",
   "execution_count": 15,
   "id": "78dcf30b-7131-49a4-9499-b340cce64ba2",
   "metadata": {},
   "outputs": [
    {
     "data": {
      "text/plain": [
       "[1, 345, '2356', 'pradeeep', True, (5+7j), 20.0, 20.56, 5]"
      ]
     },
     "execution_count": 15,
     "metadata": {},
     "output_type": "execute_result"
    }
   ],
   "source": [
    "l"
   ]
  },
  {
   "cell_type": "code",
   "execution_count": 17,
   "id": "cdd1fa13-b2a5-44b9-8115-a6756447c49b",
   "metadata": {},
   "outputs": [
    {
     "data": {
      "text/plain": [
       "'pwskills'"
      ]
     },
     "execution_count": 17,
     "metadata": {},
     "output_type": "execute_result"
    }
   ],
   "source": [
    "s = \"pwskills\"\n",
    "s"
   ]
  },
  {
   "cell_type": "code",
   "execution_count": 18,
   "id": "06378b2f-25a7-4a79-95f1-f6fe0d9712a8",
   "metadata": {},
   "outputs": [],
   "source": [
    "l.append(s)"
   ]
  },
  {
   "cell_type": "code",
   "execution_count": 19,
   "id": "032590b9-1947-47b1-b5e4-27c963917924",
   "metadata": {},
   "outputs": [
    {
     "data": {
      "text/plain": [
       "[1, 345, '2356', 'pradeeep', True, (5+7j), 20.0, 20.56, 5, 'pwskills']"
      ]
     },
     "execution_count": 19,
     "metadata": {},
     "output_type": "execute_result"
    }
   ],
   "source": [
    "l"
   ]
  },
  {
   "cell_type": "code",
   "execution_count": 20,
   "id": "c8ea96db-a2b4-4757-8e7d-986f49c4897c",
   "metadata": {},
   "outputs": [
    {
     "data": {
      "text/plain": [
       "[1,\n",
       " 345,\n",
       " '2356',\n",
       " 'pradeeep',\n",
       " True,\n",
       " (5+7j),\n",
       " 20.0,\n",
       " 20.56,\n",
       " 5,\n",
       " 'pwskills',\n",
       " [3, 4, 5, 6]]"
      ]
     },
     "execution_count": 20,
     "metadata": {},
     "output_type": "execute_result"
    }
   ],
   "source": [
    "l.append(l1)\n",
    "l"
   ]
  },
  {
   "cell_type": "code",
   "execution_count": 21,
   "id": "943e537e-79ff-419b-9e40-ed5f7130463b",
   "metadata": {},
   "outputs": [
    {
     "data": {
      "text/plain": [
       "[1,\n",
       " 345,\n",
       " '2356',\n",
       " 'pradeeep',\n",
       " True,\n",
       " (5+7j),\n",
       " 20.0,\n",
       " 20.56,\n",
       " 5,\n",
       " 'pwskills',\n",
       " [3, 4, 5, 6]]"
      ]
     },
     "execution_count": 21,
     "metadata": {},
     "output_type": "execute_result"
    }
   ],
   "source": [
    "l"
   ]
  },
  {
   "cell_type": "code",
   "execution_count": 22,
   "id": "b5f97258-f1db-43a2-99ed-2ea87e06f17e",
   "metadata": {},
   "outputs": [
    {
     "data": {
      "text/plain": [
       "[3, 4, 5, 6]"
      ]
     },
     "execution_count": 22,
     "metadata": {},
     "output_type": "execute_result"
    }
   ],
   "source": [
    "l[-1]"
   ]
  },
  {
   "cell_type": "code",
   "execution_count": 23,
   "id": "e9c7dbf4-ff2c-41df-b023-579a705b0407",
   "metadata": {},
   "outputs": [
    {
     "data": {
      "text/plain": [
       "5"
      ]
     },
     "execution_count": 23,
     "metadata": {},
     "output_type": "execute_result"
    }
   ],
   "source": [
    "l[-1][2]"
   ]
  },
  {
   "cell_type": "code",
   "execution_count": 24,
   "id": "d9a1f0c2-10cc-4723-9127-db81bf1da184",
   "metadata": {},
   "outputs": [
    {
     "data": {
      "text/plain": [
       "4"
      ]
     },
     "execution_count": 24,
     "metadata": {},
     "output_type": "execute_result"
    }
   ],
   "source": [
    "l[-1][1]"
   ]
  },
  {
   "cell_type": "code",
   "execution_count": 25,
   "id": "3af19202-7373-49b2-9980-165853f7397e",
   "metadata": {},
   "outputs": [
    {
     "data": {
      "text/plain": [
       "[1,\n",
       " 345,\n",
       " '2356',\n",
       " 'pradeeep',\n",
       " True,\n",
       " (5+7j),\n",
       " 20.0,\n",
       " 20.56,\n",
       " 5,\n",
       " 'pwskills',\n",
       " [3, 4, 5, 6]]"
      ]
     },
     "execution_count": 25,
     "metadata": {},
     "output_type": "execute_result"
    }
   ],
   "source": [
    "l"
   ]
  },
  {
   "cell_type": "code",
   "execution_count": 26,
   "id": "b5497a57-ba7e-45c6-9eb2-84a08db3ff1f",
   "metadata": {},
   "outputs": [
    {
     "ename": "TypeError",
     "evalue": "'int' object is not iterable",
     "output_type": "error",
     "traceback": [
      "\u001b[0;31m---------------------------------------------------------------------------\u001b[0m",
      "\u001b[0;31mTypeError\u001b[0m                                 Traceback (most recent call last)",
      "Cell \u001b[0;32mIn[26], line 1\u001b[0m\n\u001b[0;32m----> 1\u001b[0m \u001b[43ml\u001b[49m\u001b[38;5;241;43m.\u001b[39;49m\u001b[43mextend\u001b[49m\u001b[43m(\u001b[49m\u001b[38;5;241;43m45\u001b[39;49m\u001b[43m)\u001b[49m\n",
      "\u001b[0;31mTypeError\u001b[0m: 'int' object is not iterable"
     ]
    }
   ],
   "source": [
    "l.extend(45)"
   ]
  },
  {
   "cell_type": "code",
   "execution_count": 27,
   "id": "69888353-46fd-41d9-aa49-31003758896d",
   "metadata": {},
   "outputs": [],
   "source": [
    "l.extend(\"pradeep\")"
   ]
  },
  {
   "cell_type": "code",
   "execution_count": 28,
   "id": "dea14293-66a3-4a66-b33d-9628f587a3b7",
   "metadata": {},
   "outputs": [
    {
     "data": {
      "text/plain": [
       "[1,\n",
       " 345,\n",
       " '2356',\n",
       " 'pradeeep',\n",
       " True,\n",
       " (5+7j),\n",
       " 20.0,\n",
       " 20.56,\n",
       " 5,\n",
       " 'pwskills',\n",
       " [3, 4, 5, 6],\n",
       " 'p',\n",
       " 'r',\n",
       " 'a',\n",
       " 'd',\n",
       " 'e',\n",
       " 'e',\n",
       " 'p']"
      ]
     },
     "execution_count": 28,
     "metadata": {},
     "output_type": "execute_result"
    }
   ],
   "source": [
    "l"
   ]
  },
  {
   "cell_type": "code",
   "execution_count": 29,
   "id": "9f146720-28d5-47f4-a329-0aba3d85e335",
   "metadata": {},
   "outputs": [],
   "source": [
    "l.extend([45,46,48])"
   ]
  },
  {
   "cell_type": "code",
   "execution_count": 30,
   "id": "3944604a-9afe-47af-b16b-285e84dfe6b9",
   "metadata": {},
   "outputs": [
    {
     "data": {
      "text/plain": [
       "[1,\n",
       " 345,\n",
       " '2356',\n",
       " 'pradeeep',\n",
       " True,\n",
       " (5+7j),\n",
       " 20.0,\n",
       " 20.56,\n",
       " 5,\n",
       " 'pwskills',\n",
       " [3, 4, 5, 6],\n",
       " 'p',\n",
       " 'r',\n",
       " 'a',\n",
       " 'd',\n",
       " 'e',\n",
       " 'e',\n",
       " 'p',\n",
       " 45,\n",
       " 46,\n",
       " 48]"
      ]
     },
     "execution_count": 30,
     "metadata": {},
     "output_type": "execute_result"
    }
   ],
   "source": [
    "l"
   ]
  },
  {
   "cell_type": "code",
   "execution_count": 31,
   "id": "ced22e6d-5c0e-4b5f-84eb-e52602f19081",
   "metadata": {},
   "outputs": [],
   "source": [
    "#  append means we can further divide/break the data whatever data we have like for ex. if we have an interger then we cant break there integerso we cant \n",
    "#   append an integer"
   ]
  },
  {
   "cell_type": "code",
   "execution_count": 34,
   "id": "723b1379-eb4e-4dac-9051-62f652ff2ca9",
   "metadata": {},
   "outputs": [
    {
     "data": {
      "text/plain": [
       "[3, 4, 5, 6]"
      ]
     },
     "execution_count": 34,
     "metadata": {},
     "output_type": "execute_result"
    }
   ],
   "source": [
    "l1"
   ]
  },
  {
   "cell_type": "code",
   "execution_count": 35,
   "id": "582c06d0-9a3b-427a-b4b1-c59544ba3054",
   "metadata": {},
   "outputs": [],
   "source": [
    "l1.insert(2,90)"
   ]
  },
  {
   "cell_type": "code",
   "execution_count": 36,
   "id": "aea288e0-1bf8-4569-97ad-c88a84c70274",
   "metadata": {},
   "outputs": [
    {
     "data": {
      "text/plain": [
       "[3, 4, 90, 5, 6]"
      ]
     },
     "execution_count": 36,
     "metadata": {},
     "output_type": "execute_result"
    }
   ],
   "source": [
    "l1"
   ]
  },
  {
   "cell_type": "code",
   "execution_count": 38,
   "id": "ea1a5363-f3ee-4e68-83cc-e9b342f607c6",
   "metadata": {},
   "outputs": [],
   "source": [
    "l1.insert(2,'pradeep')"
   ]
  },
  {
   "cell_type": "code",
   "execution_count": 39,
   "id": "2c4084e2-722c-448d-b507-f5a073a1e49e",
   "metadata": {},
   "outputs": [
    {
     "data": {
      "text/plain": [
       "[3, 4, 'pradeep', 90, 5, 6]"
      ]
     },
     "execution_count": 39,
     "metadata": {},
     "output_type": "execute_result"
    }
   ],
   "source": [
    "l1"
   ]
  },
  {
   "cell_type": "code",
   "execution_count": 40,
   "id": "9b540baa-e189-4750-83d0-3dabbabcbae2",
   "metadata": {},
   "outputs": [],
   "source": [
    "l1.insert(1,[12,15,17])"
   ]
  },
  {
   "cell_type": "code",
   "execution_count": 41,
   "id": "67f73ae8-d7ea-4e9b-beca-e5c66425b0fb",
   "metadata": {},
   "outputs": [
    {
     "data": {
      "text/plain": [
       "[3, [12, 15, 17], 4, 'pradeep', 90, 5, 6]"
      ]
     },
     "execution_count": 41,
     "metadata": {},
     "output_type": "execute_result"
    }
   ],
   "source": [
    "l1"
   ]
  },
  {
   "cell_type": "code",
   "execution_count": 42,
   "id": "d150540a-7f30-4b5f-81c8-3d5ec8da4429",
   "metadata": {},
   "outputs": [
    {
     "data": {
      "text/plain": [
       "6"
      ]
     },
     "execution_count": 42,
     "metadata": {},
     "output_type": "execute_result"
    }
   ],
   "source": [
    "l1.pop()"
   ]
  },
  {
   "cell_type": "code",
   "execution_count": 46,
   "id": "eac088b3-9ff8-4a85-96f3-aa91367c89a7",
   "metadata": {},
   "outputs": [
    {
     "data": {
      "text/plain": [
       "[12, 15, 17]"
      ]
     },
     "execution_count": 46,
     "metadata": {},
     "output_type": "execute_result"
    }
   ],
   "source": [
    "l1.pop(1)"
   ]
  },
  {
   "cell_type": "code",
   "execution_count": 45,
   "id": "15500691-321f-4a36-84e0-cad5d9a8257d",
   "metadata": {},
   "outputs": [
    {
     "data": {
      "text/plain": [
       "4"
      ]
     },
     "execution_count": 45,
     "metadata": {},
     "output_type": "execute_result"
    }
   ],
   "source": [
    "l1.pop(2)"
   ]
  },
  {
   "cell_type": "code",
   "execution_count": 47,
   "id": "6a591b43-333b-4f77-928a-246517d925da",
   "metadata": {},
   "outputs": [
    {
     "ename": "IndexError",
     "evalue": "pop index out of range",
     "output_type": "error",
     "traceback": [
      "\u001b[0;31m---------------------------------------------------------------------------\u001b[0m",
      "\u001b[0;31mIndexError\u001b[0m                                Traceback (most recent call last)",
      "Cell \u001b[0;32mIn[47], line 1\u001b[0m\n\u001b[0;32m----> 1\u001b[0m \u001b[43ml1\u001b[49m\u001b[38;5;241;43m.\u001b[39;49m\u001b[43mpop\u001b[49m\u001b[43m(\u001b[49m\u001b[38;5;241;43m13\u001b[39;49m\u001b[43m)\u001b[49m\n",
      "\u001b[0;31mIndexError\u001b[0m: pop index out of range"
     ]
    }
   ],
   "source": [
    "l1.pop(13)"
   ]
  },
  {
   "cell_type": "code",
   "execution_count": 48,
   "id": "f8b7a757-a0de-45d5-a129-c67dd8d1c7a8",
   "metadata": {},
   "outputs": [],
   "source": [
    "l1.remove(3)"
   ]
  },
  {
   "cell_type": "code",
   "execution_count": 49,
   "id": "558aaec2-7264-40b6-ac50-a9a924a2088b",
   "metadata": {},
   "outputs": [
    {
     "data": {
      "text/plain": [
       "['pradeep', 90]"
      ]
     },
     "execution_count": 49,
     "metadata": {},
     "output_type": "execute_result"
    }
   ],
   "source": [
    "l1"
   ]
  },
  {
   "cell_type": "code",
   "execution_count": 50,
   "id": "245959eb-54e8-473f-8be9-55aed22a6f6f",
   "metadata": {},
   "outputs": [
    {
     "data": {
      "text/plain": [
       "['pradeep', 90]"
      ]
     },
     "execution_count": 50,
     "metadata": {},
     "output_type": "execute_result"
    }
   ],
   "source": [
    "l1"
   ]
  },
  {
   "cell_type": "code",
   "execution_count": 51,
   "id": "de7ec5cb-8e28-4215-8504-9708d5442945",
   "metadata": {},
   "outputs": [
    {
     "data": {
      "text/plain": [
       "[1,\n",
       " 345,\n",
       " 'pradeeep',\n",
       " True,\n",
       " (5+7j),\n",
       " 20.0,\n",
       " 20.56,\n",
       " 5,\n",
       " 'pwskills',\n",
       " ['pradeep', 90],\n",
       " 'p',\n",
       " 'r',\n",
       " 'a',\n",
       " 'd',\n",
       " 'e',\n",
       " 'e',\n",
       " 'p',\n",
       " 45,\n",
       " 46,\n",
       " 48]"
      ]
     },
     "execution_count": 51,
     "metadata": {},
     "output_type": "execute_result"
    }
   ],
   "source": [
    "l"
   ]
  },
  {
   "cell_type": "code",
   "execution_count": 52,
   "id": "7e0c5ec0-8aff-4c11-bb62-93026aa43200",
   "metadata": {},
   "outputs": [
    {
     "data": {
      "text/plain": [
       "[12, 3, 15, 14, 'pradeepsingh']"
      ]
     },
     "execution_count": 52,
     "metadata": {},
     "output_type": "execute_result"
    }
   ],
   "source": [
    "l2 = [12,3,15,14,'pradeepsingh']\n",
    "l2"
   ]
  },
  {
   "cell_type": "code",
   "execution_count": 53,
   "id": "db4a67ca-026e-4c79-8439-5b1180b57313",
   "metadata": {},
   "outputs": [],
   "source": [
    "l2.remove(12)"
   ]
  },
  {
   "cell_type": "code",
   "execution_count": 54,
   "id": "19149ceb-e004-43a2-81a4-0d712a94ede0",
   "metadata": {},
   "outputs": [
    {
     "data": {
      "text/plain": [
       "[3, 15, 14, 'pradeepsingh']"
      ]
     },
     "execution_count": 54,
     "metadata": {},
     "output_type": "execute_result"
    }
   ],
   "source": [
    "l2"
   ]
  },
  {
   "cell_type": "code",
   "execution_count": 55,
   "id": "3b1838ae-7e86-4ca3-a7a7-07e8eae01b9b",
   "metadata": {},
   "outputs": [],
   "source": [
    "l2.append([145,125,1256])"
   ]
  },
  {
   "cell_type": "code",
   "execution_count": 56,
   "id": "47056ac1-930b-4499-b41a-e2f1b86e305a",
   "metadata": {},
   "outputs": [
    {
     "data": {
      "text/plain": [
       "[3, 15, 14, 'pradeepsingh', [145, 125, 1256]]"
      ]
     },
     "execution_count": 56,
     "metadata": {},
     "output_type": "execute_result"
    }
   ],
   "source": [
    "l2"
   ]
  },
  {
   "cell_type": "code",
   "execution_count": 57,
   "id": "7385b647-55e7-4691-a263-ec28977fdce6",
   "metadata": {},
   "outputs": [],
   "source": [
    "l2[4].remove(145)"
   ]
  },
  {
   "cell_type": "code",
   "execution_count": 58,
   "id": "4464449d-3273-47a7-a14b-a0f80a3edca0",
   "metadata": {},
   "outputs": [
    {
     "data": {
      "text/plain": [
       "[3, 15, 14, 'pradeepsingh', [125, 1256]]"
      ]
     },
     "execution_count": 58,
     "metadata": {},
     "output_type": "execute_result"
    }
   ],
   "source": [
    "l2"
   ]
  },
  {
   "cell_type": "code",
   "execution_count": 59,
   "id": "9d616caf-b442-479b-bab3-39bec604fc45",
   "metadata": {},
   "outputs": [
    {
     "ename": "AttributeError",
     "evalue": "'str' object has no attribute 'remove'",
     "output_type": "error",
     "traceback": [
      "\u001b[0;31m---------------------------------------------------------------------------\u001b[0m",
      "\u001b[0;31mAttributeError\u001b[0m                            Traceback (most recent call last)",
      "Cell \u001b[0;32mIn[59], line 1\u001b[0m\n\u001b[0;32m----> 1\u001b[0m \u001b[43ml2\u001b[49m\u001b[43m[\u001b[49m\u001b[38;5;241;43m3\u001b[39;49m\u001b[43m]\u001b[49m\u001b[38;5;241;43m.\u001b[39;49m\u001b[43mremove\u001b[49m(\u001b[38;5;124m'\u001b[39m\u001b[38;5;124mgh\u001b[39m\u001b[38;5;124m'\u001b[39m)\n",
      "\u001b[0;31mAttributeError\u001b[0m: 'str' object has no attribute 'remove'"
     ]
    }
   ],
   "source": [
    "l2[3].remove('gh')     # string can not remove  as it is unmutable "
   ]
  },
  {
   "cell_type": "code",
   "execution_count": 60,
   "id": "680c99e3-2ab5-4927-8cbe-8df7eacd2306",
   "metadata": {},
   "outputs": [
    {
     "data": {
      "text/plain": [
       "[3, 15, 14, 'pradeepsingh', [125, 1256]]"
      ]
     },
     "execution_count": 60,
     "metadata": {},
     "output_type": "execute_result"
    }
   ],
   "source": [
    "l2"
   ]
  },
  {
   "cell_type": "code",
   "execution_count": 61,
   "id": "13762b55-8e38-4a3e-ba5b-98924e3f250b",
   "metadata": {},
   "outputs": [],
   "source": [
    "l2.append(14)"
   ]
  },
  {
   "cell_type": "code",
   "execution_count": 62,
   "id": "9cb5e56d-b109-4b4b-a9d2-72098f245d5f",
   "metadata": {},
   "outputs": [
    {
     "data": {
      "text/plain": [
       "[3, 15, 14, 'pradeepsingh', [125, 1256], 14]"
      ]
     },
     "execution_count": 62,
     "metadata": {},
     "output_type": "execute_result"
    }
   ],
   "source": [
    "l2"
   ]
  },
  {
   "cell_type": "code",
   "execution_count": 63,
   "id": "c9bed552-1768-4044-97df-406bb411866c",
   "metadata": {},
   "outputs": [],
   "source": [
    "l2.reverse()"
   ]
  },
  {
   "cell_type": "code",
   "execution_count": 64,
   "id": "513ad4ce-fe61-4b68-87d2-7eb4340e49fd",
   "metadata": {},
   "outputs": [
    {
     "data": {
      "text/plain": [
       "[14, [125, 1256], 'pradeepsingh', 14, 15, 3]"
      ]
     },
     "execution_count": 64,
     "metadata": {},
     "output_type": "execute_result"
    }
   ],
   "source": [
    "l2"
   ]
  },
  {
   "cell_type": "code",
   "execution_count": 65,
   "id": "9d8c620d-dae9-4472-b042-3c82895e8028",
   "metadata": {},
   "outputs": [
    {
     "data": {
      "text/plain": [
       "[3, 15, 14, 'pradeepsingh', [125, 1256], 14]"
      ]
     },
     "execution_count": 65,
     "metadata": {},
     "output_type": "execute_result"
    }
   ],
   "source": [
    "l2= l2[::-1]"
   ]
  },
  {
   "cell_type": "code",
   "execution_count": 66,
   "id": "891a6e6e-2cd6-4b20-b8fa-d3b9857e30ce",
   "metadata": {},
   "outputs": [],
   "source": [
    "l2.reverse()"
   ]
  },
  {
   "cell_type": "code",
   "execution_count": 67,
   "id": "17ddc77c-6448-48ad-af41-f8b28e83c148",
   "metadata": {},
   "outputs": [
    {
     "data": {
      "text/plain": [
       "[3, 15, 14, 'pradeepsingh', [125, 1256], 14]"
      ]
     },
     "execution_count": 67,
     "metadata": {},
     "output_type": "execute_result"
    }
   ],
   "source": [
    "l2"
   ]
  },
  {
   "cell_type": "code",
   "execution_count": 68,
   "id": "913b17c3-40f1-48b2-9da9-d4671f7f2f11",
   "metadata": {},
   "outputs": [
    {
     "ename": "TypeError",
     "evalue": "'<' not supported between instances of 'int' and 'str'",
     "output_type": "error",
     "traceback": [
      "\u001b[0;31m---------------------------------------------------------------------------\u001b[0m",
      "\u001b[0;31mTypeError\u001b[0m                                 Traceback (most recent call last)",
      "Cell \u001b[0;32mIn[68], line 1\u001b[0m\n\u001b[0;32m----> 1\u001b[0m \u001b[43ml1\u001b[49m\u001b[38;5;241;43m.\u001b[39;49m\u001b[43msort\u001b[49m\u001b[43m(\u001b[49m\u001b[43m)\u001b[49m\n",
      "\u001b[0;31mTypeError\u001b[0m: '<' not supported between instances of 'int' and 'str'"
     ]
    }
   ],
   "source": [
    "l1.sort()"
   ]
  },
  {
   "cell_type": "code",
   "execution_count": 69,
   "id": "c45d89ed-dda0-48f9-bd20-fa9bbb06ee13",
   "metadata": {},
   "outputs": [
    {
     "data": {
      "text/plain": [
       "[1, 145, 12, 15, 256, 854, 12, 0]"
      ]
     },
     "execution_count": 69,
     "metadata": {},
     "output_type": "execute_result"
    }
   ],
   "source": [
    "l3 = [1,145,12,15,256,854,12,0]\n",
    "l3"
   ]
  },
  {
   "cell_type": "code",
   "execution_count": 70,
   "id": "66e7b484-9dcf-42aa-a485-7c6a68b5104e",
   "metadata": {},
   "outputs": [],
   "source": [
    "l3.sort()"
   ]
  },
  {
   "cell_type": "code",
   "execution_count": 71,
   "id": "772f8066-8f6b-4e44-87eb-621b285ee945",
   "metadata": {},
   "outputs": [
    {
     "data": {
      "text/plain": [
       "[0, 1, 12, 12, 15, 145, 256, 854]"
      ]
     },
     "execution_count": 71,
     "metadata": {},
     "output_type": "execute_result"
    }
   ],
   "source": [
    "l3"
   ]
  },
  {
   "cell_type": "code",
   "execution_count": 73,
   "id": "0c050dc2-72ad-4b9c-983f-a0318f72ff57",
   "metadata": {},
   "outputs": [
    {
     "data": {
      "text/plain": [
       "[3, 14, 15, 'pradeepsingh', [125, 1256], 14]"
      ]
     },
     "execution_count": 73,
     "metadata": {},
     "output_type": "execute_result"
    }
   ],
   "source": [
    "l2"
   ]
  },
  {
   "cell_type": "code",
   "execution_count": 72,
   "id": "503ea311-7e68-43d2-8a50-e195101d2caa",
   "metadata": {},
   "outputs": [
    {
     "ename": "TypeError",
     "evalue": "'<' not supported between instances of 'str' and 'int'",
     "output_type": "error",
     "traceback": [
      "\u001b[0;31m---------------------------------------------------------------------------\u001b[0m",
      "\u001b[0;31mTypeError\u001b[0m                                 Traceback (most recent call last)",
      "Cell \u001b[0;32mIn[72], line 1\u001b[0m\n\u001b[0;32m----> 1\u001b[0m \u001b[43ml2\u001b[49m\u001b[38;5;241;43m.\u001b[39;49m\u001b[43msort\u001b[49m\u001b[43m(\u001b[49m\u001b[43m)\u001b[49m\n",
      "\u001b[0;31mTypeError\u001b[0m: '<' not supported between instances of 'str' and 'int'"
     ]
    }
   ],
   "source": [
    "l2.sort()"
   ]
  },
  {
   "cell_type": "code",
   "execution_count": 74,
   "id": "227d64b5-9a17-406d-8145-81afcf35aaf5",
   "metadata": {},
   "outputs": [
    {
     "data": {
      "text/plain": [
       "['pradeep', 'data science', 'pwskills']"
      ]
     },
     "execution_count": 74,
     "metadata": {},
     "output_type": "execute_result"
    }
   ],
   "source": [
    "l4 = ['pradeep','data science','pwskills',]\n",
    "l4"
   ]
  },
  {
   "cell_type": "code",
   "execution_count": 75,
   "id": "e57ae20d-bd77-4a7f-880b-d8395a96d3a3",
   "metadata": {},
   "outputs": [],
   "source": [
    "l4.sort()"
   ]
  },
  {
   "cell_type": "code",
   "execution_count": 76,
   "id": "6dbad6c7-1b09-4db0-beb4-32c24441b5a9",
   "metadata": {},
   "outputs": [
    {
     "data": {
      "text/plain": [
       "['data science', 'pradeep', 'pwskills']"
      ]
     },
     "execution_count": 76,
     "metadata": {},
     "output_type": "execute_result"
    }
   ],
   "source": [
    "l4"
   ]
  },
  {
   "cell_type": "code",
   "execution_count": 77,
   "id": "e510880f-0765-46eb-a93b-b587b4e569d3",
   "metadata": {},
   "outputs": [
    {
     "data": {
      "text/plain": [
       "2"
      ]
     },
     "execution_count": 77,
     "metadata": {},
     "output_type": "execute_result"
    }
   ],
   "source": [
    "l4.index(\"pwskills\")"
   ]
  },
  {
   "cell_type": "code",
   "execution_count": 78,
   "id": "98c9be2b-2b17-4d39-bfb4-a19c8c381299",
   "metadata": {},
   "outputs": [
    {
     "data": {
      "text/plain": [
       "1"
      ]
     },
     "execution_count": 78,
     "metadata": {},
     "output_type": "execute_result"
    }
   ],
   "source": [
    "l4.count(\"pradeep\")"
   ]
  },
  {
   "cell_type": "code",
   "execution_count": null,
   "id": "4cb3a858-bef5-44ad-91a0-fe9a6cfc58bc",
   "metadata": {},
   "outputs": [],
   "source": [
    "s = \"sudh\""
   ]
  },
  {
   "cell_type": "code",
   "execution_count": 81,
   "id": "b33baa34-d819-4120-9300-cbf0faa0349f",
   "metadata": {},
   "outputs": [
    {
     "data": {
      "text/plain": [
       "[3, 4, 5, 6]"
      ]
     },
     "execution_count": 81,
     "metadata": {},
     "output_type": "execute_result"
    }
   ],
   "source": [
    "l5 = [3,4,5,6]\n",
    "l5"
   ]
  },
  {
   "cell_type": "code",
   "execution_count": 79,
   "id": "3bdea67a-08f8-48f7-95cf-5237687931e5",
   "metadata": {},
   "outputs": [
    {
     "ename": "TypeError",
     "evalue": "'str' object does not support item assignment",
     "output_type": "error",
     "traceback": [
      "\u001b[0;31m---------------------------------------------------------------------------\u001b[0m",
      "\u001b[0;31mTypeError\u001b[0m                                 Traceback (most recent call last)",
      "Cell \u001b[0;32mIn[79], line 1\u001b[0m\n\u001b[0;32m----> 1\u001b[0m \u001b[43ms\u001b[49m\u001b[43m[\u001b[49m\u001b[38;5;241;43m0\u001b[39;49m\u001b[43m]\u001b[49m \u001b[38;5;241m=\u001b[39m \u001b[38;5;124m'\u001b[39m\u001b[38;5;124ma\u001b[39m\u001b[38;5;124m'\u001b[39m\n",
      "\u001b[0;31mTypeError\u001b[0m: 'str' object does not support item assignment"
     ]
    }
   ],
   "source": [
    "s[0] = 'a'"
   ]
  },
  {
   "cell_type": "code",
   "execution_count": 83,
   "id": "d7ef206a-a541-4d9b-9cf7-7b4abd4d4f0c",
   "metadata": {},
   "outputs": [
    {
     "data": {
      "text/plain": [
       "[30, 4, 5, 6]"
      ]
     },
     "execution_count": 83,
     "metadata": {},
     "output_type": "execute_result"
    }
   ],
   "source": [
    "l5[0] = 30\n",
    "l5"
   ]
  },
  {
   "cell_type": "code",
   "execution_count": 84,
   "id": "bae884f8-b085-423d-9c72-aca7c438c915",
   "metadata": {},
   "outputs": [
    {
     "data": {
      "text/plain": [
       "'pwskills'"
      ]
     },
     "execution_count": 84,
     "metadata": {},
     "output_type": "execute_result"
    }
   ],
   "source": [
    "s"
   ]
  },
  {
   "cell_type": "code",
   "execution_count": 85,
   "id": "e9e47cc5-ce12-47cc-a590-355d66efda7f",
   "metadata": {},
   "outputs": [
    {
     "data": {
      "text/plain": [
       "'zwskills'"
      ]
     },
     "execution_count": 85,
     "metadata": {},
     "output_type": "execute_result"
    }
   ],
   "source": [
    "s.replace('p','z')  # it is not permanently changed and string is always imutable we cant change."
   ]
  },
  {
   "cell_type": "code",
   "execution_count": 86,
   "id": "a9f0bd69-6923-48e6-9f63-6f709879822a",
   "metadata": {},
   "outputs": [
    {
     "data": {
      "text/plain": [
       "'pwskills'"
      ]
     },
     "execution_count": 86,
     "metadata": {},
     "output_type": "execute_result"
    }
   ],
   "source": [
    "s"
   ]
  },
  {
   "cell_type": "code",
   "execution_count": 88,
   "id": "6d784a71-3580-4f7d-892f-02e5c3a20f48",
   "metadata": {},
   "outputs": [],
   "source": [
    " t = (1, 345, '2356', 'pradeeep', True, (5+7j), 20.0, 20.56)\n",
    "   "
   ]
  },
  {
   "cell_type": "code",
   "execution_count": 89,
   "id": "b11a851c-6f3e-4d12-98d5-1d57b8e3db41",
   "metadata": {},
   "outputs": [
    {
     "data": {
      "text/plain": [
       "(1, 345, '2356', 'pradeeep', True, (5+7j), 20.0, 20.56)"
      ]
     },
     "execution_count": 89,
     "metadata": {},
     "output_type": "execute_result"
    }
   ],
   "source": [
    "t"
   ]
  },
  {
   "cell_type": "code",
   "execution_count": 90,
   "id": "390158c6-c1ce-4b91-b197-55c63651d163",
   "metadata": {},
   "outputs": [
    {
     "data": {
      "text/plain": [
       "tuple"
      ]
     },
     "execution_count": 90,
     "metadata": {},
     "output_type": "execute_result"
    }
   ],
   "source": [
    "type(t)"
   ]
  },
  {
   "cell_type": "code",
   "execution_count": 91,
   "id": "a2d75f46-4e94-4a9c-b30f-d3c9021ec8d0",
   "metadata": {},
   "outputs": [
    {
     "data": {
      "text/plain": [
       "8"
      ]
     },
     "execution_count": 91,
     "metadata": {},
     "output_type": "execute_result"
    }
   ],
   "source": [
    "len(t)"
   ]
  },
  {
   "cell_type": "code",
   "execution_count": 92,
   "id": "9bf9e403-2570-42b2-bfa8-b92fc26acd17",
   "metadata": {},
   "outputs": [
    {
     "data": {
      "text/plain": [
       "1"
      ]
     },
     "execution_count": 92,
     "metadata": {},
     "output_type": "execute_result"
    }
   ],
   "source": [
    "t[0]"
   ]
  },
  {
   "cell_type": "code",
   "execution_count": 93,
   "id": "f44df019-e291-4f94-aac2-6d6720155a35",
   "metadata": {},
   "outputs": [
    {
     "data": {
      "text/plain": [
       "20.56"
      ]
     },
     "execution_count": 93,
     "metadata": {},
     "output_type": "execute_result"
    }
   ],
   "source": [
    "t[-1]"
   ]
  },
  {
   "cell_type": "code",
   "execution_count": 94,
   "id": "ab1658f2-6fc9-4fe7-bf66-fce4bb460234",
   "metadata": {},
   "outputs": [
    {
     "data": {
      "text/plain": [
       "(20.56, 20.0, (5+7j), True, 'pradeeep', '2356', 345, 1)"
      ]
     },
     "execution_count": 94,
     "metadata": {},
     "output_type": "execute_result"
    }
   ],
   "source": [
    "t[::-1]"
   ]
  },
  {
   "cell_type": "code",
   "execution_count": 95,
   "id": "5df112af-4324-4de5-a1b7-988beeab813f",
   "metadata": {},
   "outputs": [
    {
     "data": {
      "text/plain": [
       "['data science', 'pradeep', 'pwskills']"
      ]
     },
     "execution_count": 95,
     "metadata": {},
     "output_type": "execute_result"
    }
   ],
   "source": [
    "l4"
   ]
  },
  {
   "cell_type": "code",
   "execution_count": 96,
   "id": "d1c7a28c-58c1-48c8-9817-1bcc7d2292db",
   "metadata": {},
   "outputs": [],
   "source": [
    "l4[0] = 3232"
   ]
  },
  {
   "cell_type": "code",
   "execution_count": 97,
   "id": "b345db20-f8f5-44c2-9992-31c620c77fd9",
   "metadata": {},
   "outputs": [
    {
     "data": {
      "text/plain": [
       "[3232, 'pradeep', 'pwskills']"
      ]
     },
     "execution_count": 97,
     "metadata": {},
     "output_type": "execute_result"
    }
   ],
   "source": [
    "l4"
   ]
  },
  {
   "cell_type": "code",
   "execution_count": 98,
   "id": "862835b5-d38b-423b-9d7e-2aece890febc",
   "metadata": {},
   "outputs": [
    {
     "data": {
      "text/plain": [
       "(1, 345, '2356', 'pradeeep', True, (5+7j), 20.0, 20.56)"
      ]
     },
     "execution_count": 98,
     "metadata": {},
     "output_type": "execute_result"
    }
   ],
   "source": [
    "t"
   ]
  },
  {
   "cell_type": "code",
   "execution_count": 99,
   "id": "b02f0aed-6b73-4cce-b2ad-9699b6df9f6b",
   "metadata": {},
   "outputs": [
    {
     "ename": "TypeError",
     "evalue": "'tuple' object does not support item assignment",
     "output_type": "error",
     "traceback": [
      "\u001b[0;31m---------------------------------------------------------------------------\u001b[0m",
      "\u001b[0;31mTypeError\u001b[0m                                 Traceback (most recent call last)",
      "Cell \u001b[0;32mIn[99], line 1\u001b[0m\n\u001b[0;32m----> 1\u001b[0m \u001b[43mt\u001b[49m\u001b[43m[\u001b[49m\u001b[38;5;241;43m0\u001b[39;49m\u001b[43m]\u001b[49m \u001b[38;5;241m=\u001b[39m \u001b[38;5;241m25\u001b[39m\n",
      "\u001b[0;31mTypeError\u001b[0m: 'tuple' object does not support item assignment"
     ]
    }
   ],
   "source": [
    "t[0] = 25  #   tuples are immutable whereas list is mutable "
   ]
  },
  {
   "cell_type": "code",
   "execution_count": 100,
   "id": "abb7b50c-3d9f-410f-9119-2ac3ea4059bd",
   "metadata": {},
   "outputs": [
    {
     "data": {
      "text/plain": [
       "20.56"
      ]
     },
     "execution_count": 100,
     "metadata": {},
     "output_type": "execute_result"
    }
   ],
   "source": [
    "t[-1]"
   ]
  },
  {
   "cell_type": "code",
   "execution_count": 102,
   "id": "bd646337-a755-417f-8cdc-eda5e8b0100d",
   "metadata": {},
   "outputs": [
    {
     "data": {
      "text/plain": [
       "(20.56, 20.0, (5+7j), True, 'pradeeep', '2356', 345, 1)"
      ]
     },
     "execution_count": 102,
     "metadata": {},
     "output_type": "execute_result"
    }
   ],
   "source": [
    "t[::-1]"
   ]
  },
  {
   "cell_type": "code",
   "execution_count": 104,
   "id": "bb34fbbd-eac8-480c-bda3-b6c7fe6190b0",
   "metadata": {},
   "outputs": [
    {
     "data": {
      "text/plain": [
       "1"
      ]
     },
     "execution_count": 104,
     "metadata": {},
     "output_type": "execute_result"
    }
   ],
   "source": [
    "t.count(20.0)"
   ]
  },
  {
   "cell_type": "code",
   "execution_count": 105,
   "id": "f8509ad1-7cce-47f0-a3a2-1082452222a1",
   "metadata": {},
   "outputs": [
    {
     "data": {
      "text/plain": [
       "6"
      ]
     },
     "execution_count": 105,
     "metadata": {},
     "output_type": "execute_result"
    }
   ],
   "source": [
    "t.index(20.0)"
   ]
  },
  {
   "cell_type": "markdown",
   "id": "59aae08f-c9f8-4c0e-90f2-924f6b69ab36",
   "metadata": {},
   "source": [
    "#  set in python"
   ]
  },
  {
   "cell_type": "code",
   "execution_count": 106,
   "id": "5441b096-2abf-4b8c-91e7-60e3deee32c3",
   "metadata": {},
   "outputs": [],
   "source": [
    "s1 = {}\n"
   ]
  },
  {
   "cell_type": "code",
   "execution_count": 107,
   "id": "85f858d7-5423-4303-a16b-1643a9b04ae4",
   "metadata": {},
   "outputs": [
    {
     "data": {
      "text/plain": [
       "dict"
      ]
     },
     "execution_count": 107,
     "metadata": {},
     "output_type": "execute_result"
    }
   ],
   "source": [
    "type(s1)"
   ]
  },
  {
   "cell_type": "code",
   "execution_count": 108,
   "id": "7a2f9f1e-cf03-46c3-b21c-baad502649d4",
   "metadata": {},
   "outputs": [
    {
     "data": {
      "text/plain": [
       "{2, 3, 4, 5, 6}"
      ]
     },
     "execution_count": 108,
     "metadata": {},
     "output_type": "execute_result"
    }
   ],
   "source": [
    "s2 = {2,3,4,5,6}\n",
    "s2"
   ]
  },
  {
   "cell_type": "code",
   "execution_count": 109,
   "id": "443f29e8-08bc-4046-bf82-20639db4b4ec",
   "metadata": {},
   "outputs": [
    {
     "data": {
      "text/plain": [
       "set"
      ]
     },
     "execution_count": 109,
     "metadata": {},
     "output_type": "execute_result"
    }
   ],
   "source": [
    "type(s2)"
   ]
  },
  {
   "cell_type": "code",
   "execution_count": 114,
   "id": "277bf795-a9e7-4b0b-a2b8-d69d2613e832",
   "metadata": {},
   "outputs": [
    {
     "data": {
      "text/plain": [
       "{(5+7j), 11, 12, 20.0, 20.56, '2356', 345, True, 'pradeeep'}"
      ]
     },
     "execution_count": 114,
     "metadata": {},
     "output_type": "execute_result"
    }
   ],
   "source": [
    "s3 = {20.56, 20.0, (5+7j), True, 'pradeeep', '2356', 345, 11,11,11,12,20.0}\n",
    "s3"
   ]
  },
  {
   "cell_type": "code",
   "execution_count": 111,
   "id": "4d8b9843-dcc4-45a7-9cd3-34f2f0acdd63",
   "metadata": {},
   "outputs": [
    {
     "data": {
      "text/plain": [
       "{2, 3, 4, 5}"
      ]
     },
     "execution_count": 111,
     "metadata": {},
     "output_type": "execute_result"
    }
   ],
   "source": [
    "s4 = {2,3,4,5,2,5,4,2,3}\n",
    "s4"
   ]
  },
  {
   "cell_type": "code",
   "execution_count": 116,
   "id": "7befdf7e-38c2-49a8-92f7-548588471c88",
   "metadata": {},
   "outputs": [
    {
     "data": {
      "text/plain": [
       "[2, 3, 4, 5, 2, 5, 4, 2, 3]"
      ]
     },
     "execution_count": 116,
     "metadata": {},
     "output_type": "execute_result"
    }
   ],
   "source": [
    "l6 = [2,3,4,5,2,5,4,2,3]\n",
    "l6\n"
   ]
  },
  {
   "cell_type": "code",
   "execution_count": 117,
   "id": "2ea06dda-104f-4db9-8894-6c61d58809bb",
   "metadata": {},
   "outputs": [
    {
     "data": {
      "text/plain": [
       "{2, 3, 4, 5}"
      ]
     },
     "execution_count": 117,
     "metadata": {},
     "output_type": "execute_result"
    }
   ],
   "source": [
    "set(l6)"
   ]
  },
  {
   "cell_type": "code",
   "execution_count": 118,
   "id": "6fde30ce-5f04-45ab-895d-1830037d10c8",
   "metadata": {},
   "outputs": [],
   "source": [
    "l6 = list(set(l6))"
   ]
  },
  {
   "cell_type": "code",
   "execution_count": 119,
   "id": "7492a5b9-ca42-404b-b737-84279594c7b0",
   "metadata": {},
   "outputs": [
    {
     "data": {
      "text/plain": [
       "[2, 3, 4, 5]"
      ]
     },
     "execution_count": 119,
     "metadata": {},
     "output_type": "execute_result"
    }
   ],
   "source": [
    "l6"
   ]
  },
  {
   "cell_type": "code",
   "execution_count": 120,
   "id": "4a824a6e-21cc-4265-bb41-7cf655204ee7",
   "metadata": {},
   "outputs": [
    {
     "data": {
      "text/plain": [
       "[2, 3, 4, 5]"
      ]
     },
     "execution_count": 120,
     "metadata": {},
     "output_type": "execute_result"
    }
   ],
   "source": [
    "l6"
   ]
  },
  {
   "cell_type": "code",
   "execution_count": 121,
   "id": "c3edc22e-e416-4441-b12e-67f8d629cde0",
   "metadata": {},
   "outputs": [
    {
     "data": {
      "text/plain": [
       "{12, 14, 18, 232, 25, 254, 45, 78, 98, 'pradeep', 'ram'}"
      ]
     },
     "execution_count": 121,
     "metadata": {},
     "output_type": "execute_result"
    }
   ],
   "source": [
    "s5 = {232,254,12,45,14,18,78,98,'pradeep',25,45,'ram'}\n",
    "s5"
   ]
  },
  {
   "cell_type": "code",
   "execution_count": 122,
   "id": "3ef078cd-ae72-48e1-9d29-9e7009236391",
   "metadata": {},
   "outputs": [
    {
     "ename": "TypeError",
     "evalue": "'set' object is not subscriptable",
     "output_type": "error",
     "traceback": [
      "\u001b[0;31m---------------------------------------------------------------------------\u001b[0m",
      "\u001b[0;31mTypeError\u001b[0m                                 Traceback (most recent call last)",
      "Cell \u001b[0;32mIn[122], line 1\u001b[0m\n\u001b[0;32m----> 1\u001b[0m \u001b[43ms5\u001b[49m\u001b[43m[\u001b[49m\u001b[38;5;241;43m0\u001b[39;49m\u001b[43m]\u001b[49m\n",
      "\u001b[0;31mTypeError\u001b[0m: 'set' object is not subscriptable"
     ]
    }
   ],
   "source": [
    "s5[0]"
   ]
  },
  {
   "cell_type": "code",
   "execution_count": 123,
   "id": "3c838681-6bf7-4ad7-b241-f08b56985c27",
   "metadata": {},
   "outputs": [
    {
     "data": {
      "text/plain": [
       "{12, 14, 18, 232, 25, 254, 4, 45, 78, 98, 'pradeep', 'ram'}"
      ]
     },
     "execution_count": 123,
     "metadata": {},
     "output_type": "execute_result"
    }
   ],
   "source": [
    "s5.add(4)\n",
    "s5"
   ]
  },
  {
   "cell_type": "code",
   "execution_count": 124,
   "id": "07d8c503-e9c1-4337-81ac-e58a31040350",
   "metadata": {},
   "outputs": [],
   "source": [
    "s5.add(145145)"
   ]
  },
  {
   "cell_type": "code",
   "execution_count": 125,
   "id": "f06af37d-7085-41d8-bf20-f41d124b3847",
   "metadata": {},
   "outputs": [
    {
     "data": {
      "text/plain": [
       "{12, 14, 145145, 18, 232, 25, 254, 4, 45, 78, 98, 'pradeep', 'ram'}"
      ]
     },
     "execution_count": 125,
     "metadata": {},
     "output_type": "execute_result"
    }
   ],
   "source": [
    "s5"
   ]
  },
  {
   "cell_type": "code",
   "execution_count": 126,
   "id": "7e89a6e8-e1df-4a27-b950-274e81cbecd6",
   "metadata": {},
   "outputs": [
    {
     "data": {
      "text/plain": [
       "{12, 14, 18, 232, 25, 254, 4, 45, 78, 98, 'pradeep', 'ram'}"
      ]
     },
     "execution_count": 126,
     "metadata": {},
     "output_type": "execute_result"
    }
   ],
   "source": [
    "s5.remove(145145)\n",
    "s5"
   ]
  },
  {
   "cell_type": "code",
   "execution_count": null,
   "id": "8fac207a-0fa5-49fc-a09d-9a0084710132",
   "metadata": {},
   "outputs": [],
   "source": []
  },
  {
   "cell_type": "markdown",
   "id": "820f6e11-669c-4f5f-9c8d-58839bff645f",
   "metadata": {},
   "source": [
    "# Dictionary "
   ]
  },
  {
   "cell_type": "code",
   "execution_count": 1,
   "id": "3a9b7391-5729-4534-87d3-c3c59184e673",
   "metadata": {},
   "outputs": [],
   "source": [
    "d = {}"
   ]
  },
  {
   "cell_type": "code",
   "execution_count": 2,
   "id": "0b9db397-cd61-4fc7-8783-8db25308c1c3",
   "metadata": {},
   "outputs": [
    {
     "data": {
      "text/plain": [
       "dict"
      ]
     },
     "execution_count": 2,
     "metadata": {},
     "output_type": "execute_result"
    }
   ],
   "source": [
    "type(d)"
   ]
  },
  {
   "cell_type": "code",
   "execution_count": 3,
   "id": "e501ad82-e96c-4398-8075-5f3592a9306f",
   "metadata": {},
   "outputs": [],
   "source": [
    "d1 = {'key' : 'pradeep'}"
   ]
  },
  {
   "cell_type": "code",
   "execution_count": 4,
   "id": "7cea1134-7470-4a8e-9ccc-bfd06f4f3185",
   "metadata": {},
   "outputs": [
    {
     "data": {
      "text/plain": [
       "{'key': 'pradeep'}"
      ]
     },
     "execution_count": 4,
     "metadata": {},
     "output_type": "execute_result"
    }
   ],
   "source": [
    "d1"
   ]
  },
  {
   "cell_type": "code",
   "execution_count": 5,
   "id": "782cc167-177d-4189-ae2d-47e7f96954aa",
   "metadata": {},
   "outputs": [],
   "source": [
    "d2 = {'name':'pradeep','college':'iit kgp','from':'indore'}"
   ]
  },
  {
   "cell_type": "code",
   "execution_count": 6,
   "id": "7ce094e6-fa3a-4fef-b8ca-c7500a04a2bd",
   "metadata": {},
   "outputs": [
    {
     "data": {
      "text/plain": [
       "{'name': 'pradeep', 'college': 'iit kgp', 'from': 'indore'}"
      ]
     },
     "execution_count": 6,
     "metadata": {},
     "output_type": "execute_result"
    }
   ],
   "source": [
    "d2"
   ]
  },
  {
   "cell_type": "code",
   "execution_count": 9,
   "id": "b4db18f4-99d0-4259-91c9-969ce2de4375",
   "metadata": {},
   "outputs": [
    {
     "data": {
      "text/plain": [
       "{234: 'pradeep', '_pradeep': 'pradeep', True: 23564}"
      ]
     },
     "execution_count": 9,
     "metadata": {},
     "output_type": "execute_result"
    }
   ],
   "source": [
    "d3 = {234:'pradeep','_pradeep':'pradeep',True:23564}\n",
    "d3"
   ]
  },
  {
   "cell_type": "code",
   "execution_count": 10,
   "id": "288dc3cb-30db-42db-b41d-7b1db9861f4d",
   "metadata": {},
   "outputs": [
    {
     "data": {
      "text/plain": [
       "'pradeep'"
      ]
     },
     "execution_count": 10,
     "metadata": {},
     "output_type": "execute_result"
    }
   ],
   "source": [
    "d3[234]"
   ]
  },
  {
   "cell_type": "code",
   "execution_count": 12,
   "id": "ff6b56b9-c4bd-42b5-9789-503e99eea42d",
   "metadata": {},
   "outputs": [
    {
     "data": {
      "text/plain": [
       "23564"
      ]
     },
     "execution_count": 12,
     "metadata": {},
     "output_type": "execute_result"
    }
   ],
   "source": [
    "d3[True]"
   ]
  },
  {
   "cell_type": "code",
   "execution_count": 13,
   "id": "b0aeafe9-e3ba-46ce-b643-d04c8d0d2e51",
   "metadata": {},
   "outputs": [
    {
     "data": {
      "text/plain": [
       "23564"
      ]
     },
     "execution_count": 13,
     "metadata": {},
     "output_type": "execute_result"
    }
   ],
   "source": [
    "d3[1]"
   ]
  },
  {
   "cell_type": "code",
   "execution_count": 14,
   "id": "d5715ea8-005e-422d-8a56-0d9c12aaa8ea",
   "metadata": {},
   "outputs": [
    {
     "data": {
      "text/plain": [
       "{234: 'pradeep', '_pradeep': 'pradeep', True: 23564}"
      ]
     },
     "execution_count": 14,
     "metadata": {},
     "output_type": "execute_result"
    }
   ],
   "source": [
    "d3"
   ]
  },
  {
   "cell_type": "code",
   "execution_count": 15,
   "id": "5d28e6fb-1396-423c-8f21-c302c3eed2ca",
   "metadata": {},
   "outputs": [],
   "source": [
    "d4 = {'name':'yati','mail_id':'rajputpradeep79474@','name':'pradeep singh'}"
   ]
  },
  {
   "cell_type": "code",
   "execution_count": 16,
   "id": "490f88d7-c507-44c3-b4da-a82e215463a9",
   "metadata": {},
   "outputs": [
    {
     "data": {
      "text/plain": [
       "'pradeep singh'"
      ]
     },
     "execution_count": 16,
     "metadata": {},
     "output_type": "execute_result"
    }
   ],
   "source": [
    "d4['name']"
   ]
  },
  {
   "cell_type": "code",
   "execution_count": 17,
   "id": "b7ce2b80-a9ad-47c5-95d1-9ac51abc4ce8",
   "metadata": {},
   "outputs": [
    {
     "data": {
      "text/plain": [
       "{'company': 'pwskills',\n",
       " 'course': ['wev dev', 'data science', 'java with dsa system design']}"
      ]
     },
     "execution_count": 17,
     "metadata": {},
     "output_type": "execute_result"
    }
   ],
   "source": [
    "d5 = {'company':'pwskills','course':['wev dev','data science','java with dsa system design']}\n",
    "d5"
   ]
  },
  {
   "cell_type": "code",
   "execution_count": 20,
   "id": "a2923031-04e5-46b3-9b9f-7cd6b289fdae",
   "metadata": {},
   "outputs": [
    {
     "data": {
      "text/plain": [
       "'java with dsa system design'"
      ]
     },
     "execution_count": 20,
     "metadata": {},
     "output_type": "execute_result"
    }
   ],
   "source": [
    "d5['course'][2]"
   ]
  },
  {
   "cell_type": "code",
   "execution_count": 29,
   "id": "12fce4d8-5642-4a53-bacf-700d11a7705f",
   "metadata": {},
   "outputs": [
    {
     "data": {
      "text/plain": [
       "{'number': [2, 4, 5, 6, 8, 35, 35],\n",
       " 'assignment': (1, 2, 3, 5, 6, 6),\n",
       " 'launch_date': {12, 15, 27, 28},\n",
       " 'class_time': {'wev dev': 8,\n",
       "  'data science': 8,\n",
       "  'java with dsa design and system': 7}}"
      ]
     },
     "execution_count": 29,
     "metadata": {},
     "output_type": "execute_result"
    }
   ],
   "source": [
    "d7 = {'number':[2,4,5,6,8,35,35],'assignment':(1,2,3,5,6,6),'launch_date':{28,12,15,27},'class_time':{'wev dev':8 ,'data science':8,'java with dsa design and system':7}}\n",
    "\n",
    "d7      "
   ]
  },
  {
   "cell_type": "code",
   "execution_count": 31,
   "id": "40aca04f-f617-4cd7-8a6d-6d5d7c16789a",
   "metadata": {},
   "outputs": [
    {
     "data": {
      "text/plain": [
       "7"
      ]
     },
     "execution_count": 31,
     "metadata": {},
     "output_type": "execute_result"
    }
   ],
   "source": [
    "d7['class_time']['java with dsa design and system']"
   ]
  },
  {
   "cell_type": "code",
   "execution_count": 32,
   "id": "bc4f171c-5c60-4055-99ee-b5d8d3256629",
   "metadata": {},
   "outputs": [],
   "source": [
    "d7['pradeep'] = ['ajit','sachin','ritik']"
   ]
  },
  {
   "cell_type": "code",
   "execution_count": 33,
   "id": "81d072bb-2c55-4a72-84f8-e8b7cd0c451a",
   "metadata": {},
   "outputs": [
    {
     "data": {
      "text/plain": [
       "{'number': [2, 4, 5, 6, 8, 35, 35],\n",
       " 'assignment': (1, 2, 3, 5, 6, 6),\n",
       " 'launch_date': {12, 15, 27, 28},\n",
       " 'class_time': {'wev dev': 8,\n",
       "  'data science': 8,\n",
       "  'java with dsa design and system': 7},\n",
       " 'pradeep': ['ajit', 'sachin', 'ritik']}"
      ]
     },
     "execution_count": 33,
     "metadata": {},
     "output_type": "execute_result"
    }
   ],
   "source": [
    "d7"
   ]
  },
  {
   "cell_type": "code",
   "execution_count": 34,
   "id": "00677d5c-465c-464d-894f-0543888e9e35",
   "metadata": {},
   "outputs": [],
   "source": [
    "del d7['number']"
   ]
  },
  {
   "cell_type": "code",
   "execution_count": 35,
   "id": "d2232754-205b-4346-9aa1-f4d71d990dcc",
   "metadata": {},
   "outputs": [
    {
     "data": {
      "text/plain": [
       "{'assignment': (1, 2, 3, 5, 6, 6),\n",
       " 'launch_date': {12, 15, 27, 28},\n",
       " 'class_time': {'wev dev': 8,\n",
       "  'data science': 8,\n",
       "  'java with dsa design and system': 7},\n",
       " 'pradeep': ['ajit', 'sachin', 'ritik']}"
      ]
     },
     "execution_count": 35,
     "metadata": {},
     "output_type": "execute_result"
    }
   ],
   "source": [
    "d7"
   ]
  },
  {
   "cell_type": "code",
   "execution_count": 36,
   "id": "e75b9a0c-dc10-4567-9cf9-21909d19c6ee",
   "metadata": {},
   "outputs": [
    {
     "data": {
      "text/plain": [
       "dict_keys(['assignment', 'launch_date', 'class_time', 'pradeep'])"
      ]
     },
     "execution_count": 36,
     "metadata": {},
     "output_type": "execute_result"
    }
   ],
   "source": [
    "d7.keys()"
   ]
  },
  {
   "cell_type": "code",
   "execution_count": 37,
   "id": "24b94918-7421-42ec-9c3f-4a8bd40e083a",
   "metadata": {},
   "outputs": [
    {
     "data": {
      "text/plain": [
       "dict_values([(1, 2, 3, 5, 6, 6), {27, 28, 12, 15}, {'wev dev': 8, 'data science': 8, 'java with dsa design and system': 7}, ['ajit', 'sachin', 'ritik']])"
      ]
     },
     "execution_count": 37,
     "metadata": {},
     "output_type": "execute_result"
    }
   ],
   "source": [
    "d7.values()"
   ]
  },
  {
   "cell_type": "code",
   "execution_count": 38,
   "id": "adb666fe-c0b3-471e-8868-bcd2ac327661",
   "metadata": {},
   "outputs": [
    {
     "data": {
      "text/plain": [
       "dict_items([('assignment', (1, 2, 3, 5, 6, 6)), ('launch_date', {27, 28, 12, 15}), ('class_time', {'wev dev': 8, 'data science': 8, 'java with dsa design and system': 7}), ('pradeep', ['ajit', 'sachin', 'ritik'])])"
      ]
     },
     "execution_count": 38,
     "metadata": {},
     "output_type": "execute_result"
    }
   ],
   "source": [
    "d7.items()"
   ]
  },
  {
   "cell_type": "code",
   "execution_count": 39,
   "id": "0205f7ac-d7ef-4f73-a010-6c2c39c0ebff",
   "metadata": {},
   "outputs": [
    {
     "data": {
      "text/plain": [
       "[('assignment', (1, 2, 3, 5, 6, 6)),\n",
       " ('launch_date', {12, 15, 27, 28}),\n",
       " ('class_time',\n",
       "  {'wev dev': 8, 'data science': 8, 'java with dsa design and system': 7}),\n",
       " ('pradeep', ['ajit', 'sachin', 'ritik'])]"
      ]
     },
     "execution_count": 39,
     "metadata": {},
     "output_type": "execute_result"
    }
   ],
   "source": [
    "list(d7.items())"
   ]
  },
  {
   "cell_type": "code",
   "execution_count": 42,
   "id": "d96f64e8-55c6-494b-8df7-6ef941fe99d2",
   "metadata": {},
   "outputs": [
    {
     "data": {
      "text/plain": [
       "(1, 2, 3, 5, 6, 6)"
      ]
     },
     "execution_count": 42,
     "metadata": {},
     "output_type": "execute_result"
    }
   ],
   "source": [
    "d7.pop('assignment')"
   ]
  },
  {
   "cell_type": "code",
   "execution_count": 41,
   "id": "d3d056d7-ef39-419e-a003-d9d2315db98f",
   "metadata": {},
   "outputs": [
    {
     "data": {
      "text/plain": [
       "{'assignment': (1, 2, 3, 5, 6, 6),\n",
       " 'launch_date': {12, 15, 27, 28},\n",
       " 'class_time': {'wev dev': 8,\n",
       "  'data science': 8,\n",
       "  'java with dsa design and system': 7},\n",
       " 'pradeep': ['ajit', 'sachin', 'ritik']}"
      ]
     },
     "execution_count": 41,
     "metadata": {},
     "output_type": "execute_result"
    }
   ],
   "source": [
    "d7"
   ]
  },
  {
   "cell_type": "code",
   "execution_count": 43,
   "id": "502d4d37-d995-442f-bcca-661546f33e96",
   "metadata": {},
   "outputs": [
    {
     "data": {
      "text/plain": [
       "{'launch_date': {12, 15, 27, 28},\n",
       " 'class_time': {'wev dev': 8,\n",
       "  'data science': 8,\n",
       "  'java with dsa design and system': 7},\n",
       " 'pradeep': ['ajit', 'sachin', 'ritik']}"
      ]
     },
     "execution_count": 43,
     "metadata": {},
     "output_type": "execute_result"
    }
   ],
   "source": [
    "d7"
   ]
  },
  {
   "cell_type": "code",
   "execution_count": 44,
   "id": "66038ae5-8be0-43fe-bdbf-72e141809d49",
   "metadata": {},
   "outputs": [
    {
     "ename": "TypeError",
     "evalue": "pop expected at least 1 argument, got 0",
     "output_type": "error",
     "traceback": [
      "\u001b[0;31m---------------------------------------------------------------------------\u001b[0m",
      "\u001b[0;31mTypeError\u001b[0m                                 Traceback (most recent call last)",
      "Cell \u001b[0;32mIn[44], line 1\u001b[0m\n\u001b[0;32m----> 1\u001b[0m \u001b[43md7\u001b[49m\u001b[38;5;241;43m.\u001b[39;49m\u001b[43mpop\u001b[49m\u001b[43m(\u001b[49m\u001b[43m)\u001b[49m\n",
      "\u001b[0;31mTypeError\u001b[0m: pop expected at least 1 argument, got 0"
     ]
    }
   ],
   "source": [
    "d7.pop()"
   ]
  },
  {
   "cell_type": "code",
   "execution_count": 54,
   "id": "468529fe-a51e-4543-a938-5daa3c22a2d1",
   "metadata": {},
   "outputs": [
    {
     "name": "stdin",
     "output_type": "stream",
     "text": [
      "Enter your marks? 88\n"
     ]
    },
    {
     "name": "stdout",
     "output_type": "stream",
     "text": [
      " you got excellent grade\n"
     ]
    }
   ],
   "source": [
    "marks = int(input('Enter your marks?'))\n",
    "#marks = 25\n",
    "if marks >= 80:\n",
    "    \n",
    "    print(\" you got excellent grade\")\n",
    "elif marks>=60 and marks<80:\n",
    "    print(' you got A1 grade') \n",
    "elif marks>=40 and marks<60:\n",
    "    print(' you gotA2 grade')  \n",
    "elif marks>=33 and marks<40:\n",
    "    print(' you got A3 grade') \n",
    "else:\n",
    "    \n",
    "    print(\" you are fail!\")\n",
    "        "
   ]
  },
  {
   "cell_type": "code",
   "execution_count": 51,
   "id": "7983b71d-8010-481a-8fc2-b048e3e118e6",
   "metadata": {},
   "outputs": [
    {
     "data": {
      "text/plain": [
       "False"
      ]
     },
     "execution_count": 51,
     "metadata": {},
     "output_type": "execute_result"
    }
   ],
   "source": [
    "10>=80"
   ]
  },
  {
   "cell_type": "code",
   "execution_count": 55,
   "id": "a957c5fd-40e2-4bdb-915b-f99873cd2850",
   "metadata": {},
   "outputs": [
    {
     "name": "stdin",
     "output_type": "stream",
     "text": [
      "Enter your marks? 45\n"
     ]
    }
   ],
   "source": [
    "marks = int(input('Enter your marks?'))"
   ]
  },
  {
   "cell_type": "code",
   "execution_count": 56,
   "id": "cbb67f7d-1783-44f7-a0fb-5298f68c1968",
   "metadata": {},
   "outputs": [
    {
     "data": {
      "text/plain": [
       "45"
      ]
     },
     "execution_count": 56,
     "metadata": {},
     "output_type": "execute_result"
    }
   ],
   "source": [
    "marks"
   ]
  },
  {
   "cell_type": "code",
   "execution_count": 60,
   "id": "48f4230d-df68-43e5-9cfb-c4fe3a33e8d9",
   "metadata": {},
   "outputs": [
    {
     "data": {
      "text/plain": [
       "str"
      ]
     },
     "execution_count": 60,
     "metadata": {},
     "output_type": "execute_result"
    }
   ],
   "source": [
    "type(marks)"
   ]
  },
  {
   "cell_type": "code",
   "execution_count": 57,
   "id": "ca76c724-9d38-47df-889e-42cb4f8e3951",
   "metadata": {},
   "outputs": [
    {
     "name": "stdin",
     "output_type": "stream",
     "text": [
      "Enter your marks? 45\n"
     ]
    }
   ],
   "source": [
    "marks = input('Enter your marks?')"
   ]
  },
  {
   "cell_type": "code",
   "execution_count": 58,
   "id": "25ac6c09-d96b-49a3-b99b-cbcea4f7ceff",
   "metadata": {},
   "outputs": [
    {
     "data": {
      "text/plain": [
       "'45'"
      ]
     },
     "execution_count": 58,
     "metadata": {},
     "output_type": "execute_result"
    }
   ],
   "source": [
    "marks"
   ]
  },
  {
   "cell_type": "code",
   "execution_count": 59,
   "id": "14526e54-1a88-4355-953d-b2053a57df63",
   "metadata": {},
   "outputs": [
    {
     "data": {
      "text/plain": [
       "str"
      ]
     },
     "execution_count": 59,
     "metadata": {},
     "output_type": "execute_result"
    }
   ],
   "source": [
    "type(marks)"
   ]
  },
  {
   "cell_type": "code",
   "execution_count": 75,
   "id": "83032b31-3e06-40d0-b5d2-5a4b8a98d7ef",
   "metadata": {},
   "outputs": [
    {
     "name": "stdin",
     "output_type": "stream",
     "text": [
      "Enter price ? 200\n"
     ]
    },
    {
     "name": "stdout",
     "output_type": "stream",
     "text": [
      " i will purchase everything!\n"
     ]
    }
   ],
   "source": [
    "price = int(input(\"Enter price ?\"))\n",
    "if price>1000:\n",
    "    print(\" i won't purchase anything\")\n",
    "    if price>7000:\n",
    "        print(\" this is too much\")\n",
    "    elif price<2000:\n",
    "        print(\"it's ok\")\n",
    "else:\n",
    "    print(\" i will purchase everything!\")\n",
    "        \n",
    "            "
   ]
  },
  {
   "cell_type": "code",
   "execution_count": 5,
   "id": "a97b7633-c60b-4d58-92af-17a3b375de24",
   "metadata": {},
   "outputs": [
    {
     "data": {
      "text/plain": [
       "[1, 2, 3, 4, 5, 6, 7, 7, 7, 8, 9]"
      ]
     },
     "execution_count": 5,
     "metadata": {},
     "output_type": "execute_result"
    }
   ],
   "source": [
    "l = [1,2,3,4,5,6,7,7,7,8,9]\n",
    "l"
   ]
  },
  {
   "cell_type": "code",
   "execution_count": 6,
   "id": "73c69ea2-3a5e-4f00-8779-6be58ea53b2c",
   "metadata": {},
   "outputs": [
    {
     "data": {
      "text/plain": [
       "2"
      ]
     },
     "execution_count": 6,
     "metadata": {},
     "output_type": "execute_result"
    }
   ],
   "source": [
    "l[0]+1"
   ]
  },
  {
   "cell_type": "code",
   "execution_count": 7,
   "id": "00dbbe60-e9ec-4f2a-ab78-85add9032d29",
   "metadata": {},
   "outputs": [
    {
     "data": {
      "text/plain": [
       "50"
      ]
     },
     "execution_count": 7,
     "metadata": {},
     "output_type": "execute_result"
    }
   ],
   "source": [
    "l[1]+48"
   ]
  },
  {
   "cell_type": "code",
   "execution_count": 8,
   "id": "0fc2ef96-a3a2-49b3-9adc-75ec0b50de7f",
   "metadata": {},
   "outputs": [
    {
     "data": {
      "text/plain": [
       "[1, 2, 3, 4, 5, 6, 7, 7, 7, 8, 9]"
      ]
     },
     "execution_count": 8,
     "metadata": {},
     "output_type": "execute_result"
    }
   ],
   "source": [
    "l"
   ]
  },
  {
   "cell_type": "code",
   "execution_count": 19,
   "id": "113bb576-16b7-445e-bb3b-a4c8ccd0ef8a",
   "metadata": {},
   "outputs": [
    {
     "data": {
      "text/plain": [
       "[1, 2, 3, 4, 5]"
      ]
     },
     "execution_count": 19,
     "metadata": {},
     "output_type": "execute_result"
    }
   ],
   "source": [
    "l1 = [1,2,3,4,5]\n",
    "l1"
   ]
  },
  {
   "cell_type": "code",
   "execution_count": 23,
   "id": "d8dc67a6-5a15-40f8-838e-12b6f629e17b",
   "metadata": {},
   "outputs": [
    {
     "data": {
      "text/plain": [
       "7"
      ]
     },
     "execution_count": 23,
     "metadata": {},
     "output_type": "execute_result"
    }
   ],
   "source": [
    "l1[1] + 5"
   ]
  },
  {
   "cell_type": "code",
   "execution_count": 21,
   "id": "122f9e2f-66b0-4f5a-92fa-56a8860536de",
   "metadata": {},
   "outputs": [
    {
     "data": {
      "text/plain": [
       "[1, 2, 3, 4, 5]"
      ]
     },
     "execution_count": 21,
     "metadata": {},
     "output_type": "execute_result"
    }
   ],
   "source": [
    "l1"
   ]
  },
  {
   "cell_type": "code",
   "execution_count": null,
   "id": "f92af07a-6a16-4e88-a2cf-741ee07e33a5",
   "metadata": {},
   "outputs": [],
   "source": [
    "l2 = []\n"
   ]
  },
  {
   "cell_type": "code",
   "execution_count": 24,
   "id": "90043e78-9d94-4c7d-b370-e9f80d7d7886",
   "metadata": {},
   "outputs": [
    {
     "ename": "NameError",
     "evalue": "name 'l2' is not defined",
     "output_type": "error",
     "traceback": [
      "\u001b[0;31m---------------------------------------------------------------------------\u001b[0m",
      "\u001b[0;31mNameError\u001b[0m                                 Traceback (most recent call last)",
      "Cell \u001b[0;32mIn[24], line 1\u001b[0m\n\u001b[0;32m----> 1\u001b[0m \u001b[43ml2\u001b[49m\u001b[38;5;241m.\u001b[39mappend(l1[\u001b[38;5;241m0\u001b[39m]\u001b[38;5;241m+\u001b[39m\u001b[38;5;241m5\u001b[39m)\n",
      "\u001b[0;31mNameError\u001b[0m: name 'l2' is not defined"
     ]
    }
   ],
   "source": [
    "l2.append(l1[0]+5)"
   ]
  },
  {
   "cell_type": "code",
   "execution_count": 16,
   "id": "2c229222-99ee-44cc-9f35-61847527aafb",
   "metadata": {},
   "outputs": [
    {
     "ename": "NameError",
     "evalue": "name 'l1' is not defined",
     "output_type": "error",
     "traceback": [
      "\u001b[0;31m---------------------------------------------------------------------------\u001b[0m",
      "\u001b[0;31mNameError\u001b[0m                                 Traceback (most recent call last)",
      "Cell \u001b[0;32mIn[16], line 1\u001b[0m\n\u001b[0;32m----> 1\u001b[0m \u001b[43ml1\u001b[49m\n",
      "\u001b[0;31mNameError\u001b[0m: name 'l1' is not defined"
     ]
    }
   ],
   "source": [
    "l1"
   ]
  },
  {
   "cell_type": "code",
   "execution_count": null,
   "id": "1816133e-dc78-44b5-9613-e59437e851ca",
   "metadata": {},
   "outputs": [],
   "source": [
    "l = [1,2,3,4,5,6,7,8,9]\n",
    "\n"
   ]
  },
  {
   "cell_type": "code",
   "execution_count": 25,
   "id": "929869ba-db24-44c9-b4a1-dd80156d65a7",
   "metadata": {},
   "outputs": [
    {
     "data": {
      "text/plain": [
       "[1, 2, 3, 4, 5, 6, 7, 7, 7, 8, 9]"
      ]
     },
     "execution_count": 25,
     "metadata": {},
     "output_type": "execute_result"
    }
   ],
   "source": [
    "l"
   ]
  },
  {
   "cell_type": "code",
   "execution_count": 30,
   "id": "bc5c9411-e4fa-412d-b161-42cf816f69fb",
   "metadata": {},
   "outputs": [
    {
     "name": "stdout",
     "output_type": "stream",
     "text": [
      "1\n",
      "2\n",
      "3\n",
      "4\n",
      "5\n",
      "6\n",
      "7\n",
      "7\n",
      "7\n",
      "8\n",
      "9\n"
     ]
    },
    {
     "data": {
      "text/plain": [
       "[2, 3, 4, 5, 6, 7, 8, 8, 8, 9, 10]"
      ]
     },
     "execution_count": 30,
     "metadata": {},
     "output_type": "execute_result"
    }
   ],
   "source": [
    "l1 = []\n",
    "for i in l :\n",
    "    print(i)\n",
    "    l1.append(i+1) \n",
    "l1    "
   ]
  },
  {
   "cell_type": "code",
   "execution_count": 36,
   "id": "1ae13d65-2026-41d0-8b18-3b01077793ed",
   "metadata": {},
   "outputs": [
    {
     "data": {
      "text/plain": [
       "['pradeep', 'sachin', 'ritik', 'ram']"
      ]
     },
     "execution_count": 36,
     "metadata": {},
     "output_type": "execute_result"
    }
   ],
   "source": [
    "l = ['pradeep','sachin','ritik','ram']\n",
    "l"
   ]
  },
  {
   "cell_type": "code",
   "execution_count": 37,
   "id": "606647cb-6cca-46ec-aa3d-5f5b435fecfb",
   "metadata": {},
   "outputs": [
    {
     "name": "stdout",
     "output_type": "stream",
     "text": [
      "pradeep\n",
      "sachin\n",
      "ritik\n",
      "ram\n"
     ]
    }
   ],
   "source": [
    "l1 = []\n",
    "for i in l:\n",
    "    print(i)\n",
    "    l1.append(i.upper())"
   ]
  },
  {
   "cell_type": "code",
   "execution_count": 38,
   "id": "ee23372b-03d0-409b-9ac5-e38eab058231",
   "metadata": {},
   "outputs": [
    {
     "data": {
      "text/plain": [
       "['PRADEEP', 'SACHIN', 'RITIK', 'RAM']"
      ]
     },
     "execution_count": 38,
     "metadata": {},
     "output_type": "execute_result"
    }
   ],
   "source": [
    "l1"
   ]
  },
  {
   "cell_type": "code",
   "execution_count": 42,
   "id": "6af24e9e-6307-4c1c-9bc4-ebbf02df3cdf",
   "metadata": {},
   "outputs": [
    {
     "data": {
      "text/plain": [
       "[1, 2, 3, 4, 5, 6, 'pradeep', 'yati', 324, 236, 562.25, 'sanju']"
      ]
     },
     "execution_count": 42,
     "metadata": {},
     "output_type": "execute_result"
    }
   ],
   "source": [
    "l = [1,2,3,4,5,6,'pradeep','yati',324,236,562.25,'sanju']\n",
    "l"
   ]
  },
  {
   "cell_type": "code",
   "execution_count": 48,
   "id": "9e5c20b6-1a87-425c-acec-8b6be91090d0",
   "metadata": {},
   "outputs": [
    {
     "data": {
      "text/plain": [
       "[1, 2, 3, 4, 5, 6, 324, 236, 562.25]"
      ]
     },
     "execution_count": 48,
     "metadata": {},
     "output_type": "execute_result"
    }
   ],
   "source": [
    "l1_num = []\n",
    "l2_str = []\n",
    "for i in l:\n",
    "    if type(i) == int or type(i) == float :\n",
    "        l1_num.append(i)\n",
    "    else:\n",
    "        l2_str.append(i)\n",
    "l1_num\n",
    "\n",
    "        \n",
    "    \n",
    "    "
   ]
  },
  {
   "cell_type": "code",
   "execution_count": 49,
   "id": "71fad129-93f9-4d7e-94d6-ece0ad56a677",
   "metadata": {},
   "outputs": [
    {
     "data": {
      "text/plain": [
       "['pradeep', 'yati', 'sanju']"
      ]
     },
     "execution_count": 49,
     "metadata": {},
     "output_type": "execute_result"
    }
   ],
   "source": [
    "l2_str"
   ]
  },
  {
   "cell_type": "code",
   "execution_count": null,
   "id": "16e61e67-944a-47d3-b9d5-578333523773",
   "metadata": {},
   "outputs": [],
   "source": []
  }
 ],
 "metadata": {
  "kernelspec": {
   "display_name": "Python 3 (ipykernel)",
   "language": "python",
   "name": "python3"
  },
  "language_info": {
   "codemirror_mode": {
    "name": "ipython",
    "version": 3
   },
   "file_extension": ".py",
   "mimetype": "text/x-python",
   "name": "python",
   "nbconvert_exporter": "python",
   "pygments_lexer": "ipython3",
   "version": "3.10.8"
  },
  "toc-showcode": false,
  "toc-showmarkdowntxt": true
 },
 "nbformat": 4,
 "nbformat_minor": 5
}
